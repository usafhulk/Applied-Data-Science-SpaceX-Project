{
  "cells": [
    {
      "cell_type": "markdown",
      "metadata": {
        "id": "J03RkDLIw_sy"
      },
      "source": [
        "<p style=\"text-align:center\">\n",
        "    <a href=\"https://skills.network\" target=\"_blank\">\n",
        "    <img src=\"https://cf-courses-data.s3.us.cloud-object-storage.appdomain.cloud/assets/logos/SN_web_lightmode.png\" width=\"200\" alt=\"Skills Network Logo\">\n",
        "    </a>\n",
        "</p>\n",
        "\n",
        "<h1 align=center><font size = 5>Assignment: SQL Notebook for Peer Assignment</font></h1>\n",
        "\n",
        "Estimated time needed: **60** minutes.\n",
        "\n",
        "## Introduction\n",
        "Using this Python notebook you will:\n",
        "\n",
        "1.  Understand the Spacex DataSet\n",
        "2.  Load the dataset  into the corresponding table in a Db2 database\n",
        "3.  Execute SQL queries to answer assignment questions\n"
      ]
    },
    {
      "cell_type": "markdown",
      "metadata": {
        "id": "_YhR8ZYtw_sz"
      },
      "source": [
        "## Overview of the DataSet\n",
        "\n",
        "SpaceX has gained worldwide attention for a series of historic milestones.\n",
        "\n",
        "It is the only private company ever to return a spacecraft from low-earth orbit, which it first accomplished in December 2010.\n",
        "SpaceX advertises Falcon 9 rocket launches on its website with a cost of 62 million dollars wheras other providers cost upward of 165 million dollars each, much of the savings is because Space X can reuse the first stage.\n",
        "\n",
        "\n",
        "Therefore if we can determine if the first stage will land, we can determine the cost of a launch.\n",
        "\n",
        "This information can be used if an alternate company wants to bid against SpaceX for a rocket launch.\n",
        "\n",
        "This dataset includes a record for each payload carried during a SpaceX mission into outer space.\n"
      ]
    },
    {
      "cell_type": "markdown",
      "metadata": {
        "id": "vsL0oiWMw_s0"
      },
      "source": [
        "### Download the datasets\n",
        "\n",
        "This assignment requires you to load the spacex dataset.\n",
        "\n",
        "In many cases the dataset to be analyzed is available as a .CSV (comma separated values) file, perhaps on the internet. Click on the link below to download and save the dataset (.CSV file):\n",
        "\n",
        " <a href=\"https://cf-courses-data.s3.us.cloud-object-storage.appdomain.cloud/IBM-DS0321EN-SkillsNetwork/labs/module_2/data/Spacex.csv\" target=\"_blank\">Spacex DataSet</a>\n",
        "\n"
      ]
    },
    {
      "cell_type": "code",
      "execution_count": 1,
      "metadata": {
        "colab": {
          "base_uri": "https://localhost:8080/"
        },
        "id": "v8BHi3p-w_s0",
        "outputId": "bf1a0205-f453-43a4-95f1-08088b62e11a"
      },
      "outputs": [
        {
          "output_type": "stream",
          "name": "stdout",
          "text": [
            "Collecting sqlalchemy==1.3.9\n",
            "  Downloading SQLAlchemy-1.3.9.tar.gz (6.0 MB)\n",
            "\u001b[2K     \u001b[90m━━━━━━━━━━━━━━━━━━━━━━━━━━━━━━━━━━━━━━━━\u001b[0m \u001b[32m6.0/6.0 MB\u001b[0m \u001b[31m3.7 MB/s\u001b[0m eta \u001b[36m0:00:00\u001b[0m\n",
            "\u001b[?25h  Preparing metadata (setup.py) ... \u001b[?25l\u001b[?25hdone\n",
            "Building wheels for collected packages: sqlalchemy\n",
            "  Building wheel for sqlalchemy (setup.py) ... \u001b[?25l\u001b[?25hdone\n",
            "  Created wheel for sqlalchemy: filename=SQLAlchemy-1.3.9-cp311-cp311-linux_x86_64.whl size=1193603 sha256=422a8aa6dd48c18ca97d311e0f1ea4e3248d990935ccf9b6335875e2b45583b4\n",
            "  Stored in directory: /root/.cache/pip/wheels/3a/7c/1e/12404784a68083eb969f877a1808a1847bab897684b56ddc55\n",
            "Successfully built sqlalchemy\n",
            "Installing collected packages: sqlalchemy\n",
            "  Attempting uninstall: sqlalchemy\n",
            "    Found existing installation: SQLAlchemy 2.0.40\n",
            "    Uninstalling SQLAlchemy-2.0.40:\n",
            "      Successfully uninstalled SQLAlchemy-2.0.40\n",
            "\u001b[31mERROR: pip's dependency resolver does not currently take into account all the packages that are installed. This behaviour is the source of the following dependency conflicts.\n",
            "langchain 0.3.24 requires SQLAlchemy<3,>=1.4, but you have sqlalchemy 1.3.9 which is incompatible.\n",
            "ipython-sql 0.5.0 requires sqlalchemy>=2.0, but you have sqlalchemy 1.3.9 which is incompatible.\u001b[0m\u001b[31m\n",
            "\u001b[0mSuccessfully installed sqlalchemy-1.3.9\n"
          ]
        }
      ],
      "source": [
        "!pip install sqlalchemy==1.3.9\n"
      ]
    },
    {
      "cell_type": "markdown",
      "metadata": {
        "id": "yDudhQEmw_s0"
      },
      "source": [
        "### Connect to the database\n",
        "\n",
        "Let us first load the SQL extension and establish a connection with the database\n"
      ]
    },
    {
      "cell_type": "code",
      "execution_count": 2,
      "metadata": {
        "colab": {
          "base_uri": "https://localhost:8080/"
        },
        "id": "wu8sEBCpw_s1",
        "outputId": "a42fac32-8135-4a3f-9b12-95b67f01b853"
      },
      "outputs": [
        {
          "output_type": "stream",
          "name": "stdout",
          "text": [
            "Requirement already satisfied: ipython-sql in /usr/local/lib/python3.11/dist-packages (0.5.0)\n",
            "Requirement already satisfied: prettytable in /usr/local/lib/python3.11/dist-packages (from ipython-sql) (3.16.0)\n",
            "Requirement already satisfied: ipython in /usr/local/lib/python3.11/dist-packages (from ipython-sql) (7.34.0)\n",
            "Collecting sqlalchemy>=2.0 (from ipython-sql)\n",
            "  Downloading sqlalchemy-2.0.40-cp311-cp311-manylinux_2_17_x86_64.manylinux2014_x86_64.whl.metadata (9.6 kB)\n",
            "Requirement already satisfied: sqlparse in /usr/local/lib/python3.11/dist-packages (from ipython-sql) (0.5.3)\n",
            "Requirement already satisfied: six in /usr/local/lib/python3.11/dist-packages (from ipython-sql) (1.17.0)\n",
            "Requirement already satisfied: ipython-genutils in /usr/local/lib/python3.11/dist-packages (from ipython-sql) (0.2.0)\n",
            "Requirement already satisfied: greenlet>=1 in /usr/local/lib/python3.11/dist-packages (from sqlalchemy>=2.0->ipython-sql) (3.2.1)\n",
            "Requirement already satisfied: typing-extensions>=4.6.0 in /usr/local/lib/python3.11/dist-packages (from sqlalchemy>=2.0->ipython-sql) (4.13.2)\n",
            "Requirement already satisfied: setuptools>=18.5 in /usr/local/lib/python3.11/dist-packages (from ipython->ipython-sql) (75.2.0)\n",
            "Collecting jedi>=0.16 (from ipython->ipython-sql)\n",
            "  Downloading jedi-0.19.2-py2.py3-none-any.whl.metadata (22 kB)\n",
            "Requirement already satisfied: decorator in /usr/local/lib/python3.11/dist-packages (from ipython->ipython-sql) (4.4.2)\n",
            "Requirement already satisfied: pickleshare in /usr/local/lib/python3.11/dist-packages (from ipython->ipython-sql) (0.7.5)\n",
            "Requirement already satisfied: traitlets>=4.2 in /usr/local/lib/python3.11/dist-packages (from ipython->ipython-sql) (5.7.1)\n",
            "Requirement already satisfied: prompt-toolkit!=3.0.0,!=3.0.1,<3.1.0,>=2.0.0 in /usr/local/lib/python3.11/dist-packages (from ipython->ipython-sql) (3.0.51)\n",
            "Requirement already satisfied: pygments in /usr/local/lib/python3.11/dist-packages (from ipython->ipython-sql) (2.19.1)\n",
            "Requirement already satisfied: backcall in /usr/local/lib/python3.11/dist-packages (from ipython->ipython-sql) (0.2.0)\n",
            "Requirement already satisfied: matplotlib-inline in /usr/local/lib/python3.11/dist-packages (from ipython->ipython-sql) (0.1.7)\n",
            "Requirement already satisfied: pexpect>4.3 in /usr/local/lib/python3.11/dist-packages (from ipython->ipython-sql) (4.9.0)\n",
            "Requirement already satisfied: wcwidth in /usr/local/lib/python3.11/dist-packages (from prettytable->ipython-sql) (0.2.13)\n",
            "Requirement already satisfied: parso<0.9.0,>=0.8.4 in /usr/local/lib/python3.11/dist-packages (from jedi>=0.16->ipython->ipython-sql) (0.8.4)\n",
            "Requirement already satisfied: ptyprocess>=0.5 in /usr/local/lib/python3.11/dist-packages (from pexpect>4.3->ipython->ipython-sql) (0.7.0)\n",
            "Downloading sqlalchemy-2.0.40-cp311-cp311-manylinux_2_17_x86_64.manylinux2014_x86_64.whl (3.2 MB)\n",
            "\u001b[2K   \u001b[90m━━━━━━━━━━━━━━━━━━━━━━━━━━━━━━━━━━━━━━━━\u001b[0m \u001b[32m3.2/3.2 MB\u001b[0m \u001b[31m27.7 MB/s\u001b[0m eta \u001b[36m0:00:00\u001b[0m\n",
            "\u001b[?25hDownloading jedi-0.19.2-py2.py3-none-any.whl (1.6 MB)\n",
            "\u001b[2K   \u001b[90m━━━━━━━━━━━━━━━━━━━━━━━━━━━━━━━━━━━━━━━━\u001b[0m \u001b[32m1.6/1.6 MB\u001b[0m \u001b[31m37.6 MB/s\u001b[0m eta \u001b[36m0:00:00\u001b[0m\n",
            "\u001b[?25hInstalling collected packages: sqlalchemy, jedi\n",
            "  Attempting uninstall: sqlalchemy\n",
            "    Found existing installation: SQLAlchemy 1.3.9\n",
            "    Uninstalling SQLAlchemy-1.3.9:\n",
            "      Successfully uninstalled SQLAlchemy-1.3.9\n",
            "Successfully installed jedi-0.19.2 sqlalchemy-2.0.40\n",
            "Requirement already satisfied: ipython-sql in /usr/local/lib/python3.11/dist-packages (0.5.0)\n",
            "Requirement already satisfied: prettytable in /usr/local/lib/python3.11/dist-packages (3.16.0)\n",
            "Requirement already satisfied: ipython in /usr/local/lib/python3.11/dist-packages (from ipython-sql) (7.34.0)\n",
            "Requirement already satisfied: sqlalchemy>=2.0 in /usr/local/lib/python3.11/dist-packages (from ipython-sql) (2.0.40)\n",
            "Requirement already satisfied: sqlparse in /usr/local/lib/python3.11/dist-packages (from ipython-sql) (0.5.3)\n",
            "Requirement already satisfied: six in /usr/local/lib/python3.11/dist-packages (from ipython-sql) (1.17.0)\n",
            "Requirement already satisfied: ipython-genutils in /usr/local/lib/python3.11/dist-packages (from ipython-sql) (0.2.0)\n",
            "Requirement already satisfied: wcwidth in /usr/local/lib/python3.11/dist-packages (from prettytable) (0.2.13)\n",
            "Requirement already satisfied: greenlet>=1 in /usr/local/lib/python3.11/dist-packages (from sqlalchemy>=2.0->ipython-sql) (3.2.1)\n",
            "Requirement already satisfied: typing-extensions>=4.6.0 in /usr/local/lib/python3.11/dist-packages (from sqlalchemy>=2.0->ipython-sql) (4.13.2)\n",
            "Requirement already satisfied: setuptools>=18.5 in /usr/local/lib/python3.11/dist-packages (from ipython->ipython-sql) (75.2.0)\n",
            "Requirement already satisfied: jedi>=0.16 in /usr/local/lib/python3.11/dist-packages (from ipython->ipython-sql) (0.19.2)\n",
            "Requirement already satisfied: decorator in /usr/local/lib/python3.11/dist-packages (from ipython->ipython-sql) (4.4.2)\n",
            "Requirement already satisfied: pickleshare in /usr/local/lib/python3.11/dist-packages (from ipython->ipython-sql) (0.7.5)\n",
            "Requirement already satisfied: traitlets>=4.2 in /usr/local/lib/python3.11/dist-packages (from ipython->ipython-sql) (5.7.1)\n",
            "Requirement already satisfied: prompt-toolkit!=3.0.0,!=3.0.1,<3.1.0,>=2.0.0 in /usr/local/lib/python3.11/dist-packages (from ipython->ipython-sql) (3.0.51)\n",
            "Requirement already satisfied: pygments in /usr/local/lib/python3.11/dist-packages (from ipython->ipython-sql) (2.19.1)\n",
            "Requirement already satisfied: backcall in /usr/local/lib/python3.11/dist-packages (from ipython->ipython-sql) (0.2.0)\n",
            "Requirement already satisfied: matplotlib-inline in /usr/local/lib/python3.11/dist-packages (from ipython->ipython-sql) (0.1.7)\n",
            "Requirement already satisfied: pexpect>4.3 in /usr/local/lib/python3.11/dist-packages (from ipython->ipython-sql) (4.9.0)\n",
            "Requirement already satisfied: parso<0.9.0,>=0.8.4 in /usr/local/lib/python3.11/dist-packages (from jedi>=0.16->ipython->ipython-sql) (0.8.4)\n",
            "Requirement already satisfied: ptyprocess>=0.5 in /usr/local/lib/python3.11/dist-packages (from pexpect>4.3->ipython->ipython-sql) (0.7.0)\n"
          ]
        }
      ],
      "source": [
        "!pip install ipython-sql\n",
        "!pip install ipython-sql prettytable"
      ]
    },
    {
      "cell_type": "code",
      "execution_count": 3,
      "metadata": {
        "id": "Jf094UISw_s1"
      },
      "outputs": [],
      "source": [
        "%load_ext sql"
      ]
    },
    {
      "cell_type": "code",
      "execution_count": 4,
      "metadata": {
        "id": "mbtf-yGdw_s1"
      },
      "outputs": [],
      "source": [
        "import csv, sqlite3\n",
        "import prettytable\n",
        "prettytable.DEFAULT = 'DEFAULT'\n",
        "\n",
        "con = sqlite3.connect(\"my_data1.db\")\n",
        "cur = con.cursor()"
      ]
    },
    {
      "cell_type": "code",
      "execution_count": 5,
      "metadata": {
        "id": "WloPXPrWw_s1"
      },
      "outputs": [],
      "source": [
        "!pip install -q pandas"
      ]
    },
    {
      "cell_type": "code",
      "execution_count": 6,
      "metadata": {
        "id": "f1HkZx3Ew_s1"
      },
      "outputs": [],
      "source": [
        "%sql sqlite:///my_data1.db"
      ]
    },
    {
      "cell_type": "code",
      "execution_count": 7,
      "metadata": {
        "colab": {
          "base_uri": "https://localhost:8080/"
        },
        "id": "wbyafkAKw_s1",
        "outputId": "802bb46b-5683-417c-e93a-1fb3b9bae1b1"
      },
      "outputs": [
        {
          "output_type": "execute_result",
          "data": {
            "text/plain": [
              "121"
            ]
          },
          "metadata": {},
          "execution_count": 7
        }
      ],
      "source": [
        "import pandas as pd\n",
        "df = pd.read_csv(r\"/content/spacex_web_scraped.csv\")\n",
        "df.to_sql(\"SPACEXTBL\", con, if_exists='replace', index=False,method=\"multi\")"
      ]
    },
    {
      "cell_type": "markdown",
      "metadata": {
        "id": "t8Dop_Btw_s1"
      },
      "source": [
        "**Note:This below code is added to remove blank rows from table**\n"
      ]
    },
    {
      "cell_type": "code",
      "execution_count": 8,
      "metadata": {
        "colab": {
          "base_uri": "https://localhost:8080/"
        },
        "id": "0nS-d3ZWw_s1",
        "outputId": "791818a3-9eec-4943-ac41-d2f7d6d14cbf"
      },
      "outputs": [
        {
          "output_type": "stream",
          "name": "stdout",
          "text": [
            " * sqlite:///my_data1.db\n",
            "Done.\n"
          ]
        },
        {
          "output_type": "execute_result",
          "data": {
            "text/plain": [
              "[]"
            ]
          },
          "metadata": {},
          "execution_count": 8
        }
      ],
      "source": [
        "#DROP THE TABLE IF EXISTS\n",
        "\n",
        "%sql DROP TABLE IF EXISTS SPACEXTABLE;"
      ]
    },
    {
      "cell_type": "code",
      "execution_count": 9,
      "metadata": {
        "colab": {
          "base_uri": "https://localhost:8080/"
        },
        "id": "SUgCc6PEw_s2",
        "outputId": "8ab1462b-db20-4ab8-95f8-51aaa2f89de3"
      },
      "outputs": [
        {
          "output_type": "stream",
          "name": "stdout",
          "text": [
            " * sqlite:///my_data1.db\n",
            "Done.\n"
          ]
        },
        {
          "output_type": "execute_result",
          "data": {
            "text/plain": [
              "[]"
            ]
          },
          "metadata": {},
          "execution_count": 9
        }
      ],
      "source": [
        "%sql create table SPACEXTABLE as select * from SPACEXTBL where Date is not null"
      ]
    },
    {
      "cell_type": "markdown",
      "metadata": {
        "id": "jfzwrSiWw_s2"
      },
      "source": [
        "## Tasks\n",
        "\n",
        "Now write and execute SQL queries to solve the assignment tasks.\n",
        "\n",
        "**Note: If the column names are in mixed case enclose it in double quotes\n",
        "   For Example \"Landing_Outcome\"**\n",
        "\n",
        "### Task 1\n",
        "\n",
        "\n",
        "\n",
        "\n",
        "##### Display the names of the unique launch sites  in the space mission\n"
      ]
    },
    {
      "cell_type": "code",
      "execution_count": 18,
      "metadata": {
        "colab": {
          "base_uri": "https://localhost:8080/",
          "height": 182
        },
        "collapsed": true,
        "id": "wLN40TW1w_s2",
        "outputId": "538f3b63-69ce-4f62-d0ca-bebf0f8c2174"
      },
      "outputs": [
        {
          "output_type": "stream",
          "name": "stdout",
          "text": [
            " * sqlite:///my_data1.db\n",
            "Done.\n"
          ]
        },
        {
          "output_type": "execute_result",
          "data": {
            "text/plain": [
              "[(1, 'CCAFS', 'Dragon Spacecraft Qualification Unit', '0', 'LEO', 'SpaceX', 'Success\\n', 'F9 v1.07B0003.18', 'Failure', '4 June 2010', '18:45'),\n",
              " (2, 'CCAFS', 'Dragon', '0', 'LEO', 'NASA', 'Success', 'F9 v1.07B0004.18', 'Failure', '8 December 2010', '15:43'),\n",
              " (3, 'CCAFS', 'Dragon', '525 kg', 'LEO', 'NASA', 'Success', 'F9 v1.07B0005.18', 'No attempt\\n', '22 May 2012', '07:44'),\n",
              " (4, 'CCAFS', 'SpaceX CRS-1', '4,700 kg', 'LEO', 'NASA', 'Success\\n', 'F9 v1.07B0006.18', 'No attempt', '8 October 2012', '00:35'),\n",
              " (5, 'CCAFS', 'SpaceX CRS-2', '4,877 kg', 'LEO', 'NASA', 'Success\\n', 'F9 v1.07B0007.18', 'No attempt\\n', '1 March 2013', '15:10')]"
            ],
            "text/html": [
              "<table>\n",
              "    <thead>\n",
              "        <tr>\n",
              "            <th>Flight No.</th>\n",
              "            <th>Launch site</th>\n",
              "            <th>Payload</th>\n",
              "            <th>Payload mass</th>\n",
              "            <th>Orbit</th>\n",
              "            <th>Customer</th>\n",
              "            <th>Launch outcome</th>\n",
              "            <th>Version Booster</th>\n",
              "            <th>Booster landing</th>\n",
              "            <th>Date</th>\n",
              "            <th>Time</th>\n",
              "        </tr>\n",
              "    </thead>\n",
              "    <tbody>\n",
              "        <tr>\n",
              "            <td>1</td>\n",
              "            <td>CCAFS</td>\n",
              "            <td>Dragon Spacecraft Qualification Unit</td>\n",
              "            <td>0</td>\n",
              "            <td>LEO</td>\n",
              "            <td>SpaceX</td>\n",
              "            <td>Success<br></td>\n",
              "            <td>F9 v1.07B0003.18</td>\n",
              "            <td>Failure</td>\n",
              "            <td>4 June 2010</td>\n",
              "            <td>18:45</td>\n",
              "        </tr>\n",
              "        <tr>\n",
              "            <td>2</td>\n",
              "            <td>CCAFS</td>\n",
              "            <td>Dragon</td>\n",
              "            <td>0</td>\n",
              "            <td>LEO</td>\n",
              "            <td>NASA</td>\n",
              "            <td>Success</td>\n",
              "            <td>F9 v1.07B0004.18</td>\n",
              "            <td>Failure</td>\n",
              "            <td>8 December 2010</td>\n",
              "            <td>15:43</td>\n",
              "        </tr>\n",
              "        <tr>\n",
              "            <td>3</td>\n",
              "            <td>CCAFS</td>\n",
              "            <td>Dragon</td>\n",
              "            <td>525 kg</td>\n",
              "            <td>LEO</td>\n",
              "            <td>NASA</td>\n",
              "            <td>Success</td>\n",
              "            <td>F9 v1.07B0005.18</td>\n",
              "            <td>No attempt<br></td>\n",
              "            <td>22 May 2012</td>\n",
              "            <td>07:44</td>\n",
              "        </tr>\n",
              "        <tr>\n",
              "            <td>4</td>\n",
              "            <td>CCAFS</td>\n",
              "            <td>SpaceX CRS-1</td>\n",
              "            <td>4,700 kg</td>\n",
              "            <td>LEO</td>\n",
              "            <td>NASA</td>\n",
              "            <td>Success<br></td>\n",
              "            <td>F9 v1.07B0006.18</td>\n",
              "            <td>No attempt</td>\n",
              "            <td>8 October 2012</td>\n",
              "            <td>00:35</td>\n",
              "        </tr>\n",
              "        <tr>\n",
              "            <td>5</td>\n",
              "            <td>CCAFS</td>\n",
              "            <td>SpaceX CRS-2</td>\n",
              "            <td>4,877 kg</td>\n",
              "            <td>LEO</td>\n",
              "            <td>NASA</td>\n",
              "            <td>Success<br></td>\n",
              "            <td>F9 v1.07B0007.18</td>\n",
              "            <td>No attempt<br></td>\n",
              "            <td>1 March 2013</td>\n",
              "            <td>15:10</td>\n",
              "        </tr>\n",
              "    </tbody>\n",
              "</table>"
            ]
          },
          "metadata": {},
          "execution_count": 18
        }
      ],
      "source": [
        "%sql select * from SPACEXTABLE LIMIT 5;"
      ]
    },
    {
      "cell_type": "code",
      "execution_count": 12,
      "metadata": {
        "colab": {
          "base_uri": "https://localhost:8080/",
          "height": 182
        },
        "id": "GKnhpekFw_s2",
        "outputId": "ab1d71b6-08f9-45cf-a7c4-e5265f8d808d"
      },
      "outputs": [
        {
          "output_type": "stream",
          "name": "stdout",
          "text": [
            " * sqlite:///my_data1.db\n",
            "Done.\n"
          ]
        },
        {
          "output_type": "execute_result",
          "data": {
            "text/plain": [
              "[('CCAFS',), ('VAFB',), ('Cape Canaveral',), ('KSC',), ('CCSFS',)]"
            ],
            "text/html": [
              "<table>\n",
              "    <thead>\n",
              "        <tr>\n",
              "            <th>Launch site</th>\n",
              "        </tr>\n",
              "    </thead>\n",
              "    <tbody>\n",
              "        <tr>\n",
              "            <td>CCAFS</td>\n",
              "        </tr>\n",
              "        <tr>\n",
              "            <td>VAFB</td>\n",
              "        </tr>\n",
              "        <tr>\n",
              "            <td>Cape Canaveral</td>\n",
              "        </tr>\n",
              "        <tr>\n",
              "            <td>KSC</td>\n",
              "        </tr>\n",
              "        <tr>\n",
              "            <td>CCSFS</td>\n",
              "        </tr>\n",
              "    </tbody>\n",
              "</table>"
            ]
          },
          "metadata": {},
          "execution_count": 12
        }
      ],
      "source": [
        "%sql select distinct(\"Launch Site\") from SPACEXTABLE"
      ]
    },
    {
      "cell_type": "markdown",
      "metadata": {
        "id": "Zbe4141Gw_s2"
      },
      "source": [
        "\n",
        "### Task 2\n",
        "\n",
        "\n",
        "#####  Display 5 records where launch sites begin with the string 'CCS'\n"
      ]
    },
    {
      "cell_type": "code",
      "execution_count": 13,
      "metadata": {
        "colab": {
          "base_uri": "https://localhost:8080/",
          "height": 182
        },
        "id": "ekUtiSJBw_s2",
        "outputId": "68c6d120-7bea-47b7-d9b0-2ff5f5f835bc"
      },
      "outputs": [
        {
          "output_type": "stream",
          "name": "stdout",
          "text": [
            " * sqlite:///my_data1.db\n",
            "Done.\n"
          ]
        },
        {
          "output_type": "execute_result",
          "data": {
            "text/plain": [
              "[('CCAFS',), ('CCAFS',), ('CCAFS',), ('CCAFS',), ('CCAFS',)]"
            ],
            "text/html": [
              "<table>\n",
              "    <thead>\n",
              "        <tr>\n",
              "            <th>Launch site</th>\n",
              "        </tr>\n",
              "    </thead>\n",
              "    <tbody>\n",
              "        <tr>\n",
              "            <td>CCAFS</td>\n",
              "        </tr>\n",
              "        <tr>\n",
              "            <td>CCAFS</td>\n",
              "        </tr>\n",
              "        <tr>\n",
              "            <td>CCAFS</td>\n",
              "        </tr>\n",
              "        <tr>\n",
              "            <td>CCAFS</td>\n",
              "        </tr>\n",
              "        <tr>\n",
              "            <td>CCAFS</td>\n",
              "        </tr>\n",
              "    </tbody>\n",
              "</table>"
            ]
          },
          "metadata": {},
          "execution_count": 13
        }
      ],
      "source": [
        "%sql select \"Launch Site\" from SPACEXTABLE where \"Launch Site\" like '%CC%' limit 5;"
      ]
    },
    {
      "cell_type": "markdown",
      "metadata": {
        "id": "uHJ94YIOw_s2"
      },
      "source": [
        "### Task 3\n",
        "\n",
        "\n",
        "\n",
        "\n",
        "##### Display the total payload mass carried by boosters launched by SPACEX\n",
        "\n"
      ]
    },
    {
      "cell_type": "code",
      "execution_count": 14,
      "metadata": {
        "colab": {
          "base_uri": "https://localhost:8080/",
          "height": 98
        },
        "id": "FjwPTxuWw_s2",
        "outputId": "58b4d370-b7d6-41a9-a638-7855aa2ffeb2"
      },
      "outputs": [
        {
          "output_type": "stream",
          "name": "stdout",
          "text": [
            " * sqlite:///my_data1.db\n",
            "Done.\n"
          ]
        },
        {
          "output_type": "execute_result",
          "data": {
            "text/plain": [
              "[(3726.0,)]"
            ],
            "text/html": [
              "<table>\n",
              "    <thead>\n",
              "        <tr>\n",
              "            <th>SUM(&quot;Payload Mass&quot;)</th>\n",
              "        </tr>\n",
              "    </thead>\n",
              "    <tbody>\n",
              "        <tr>\n",
              "            <td>3726.0</td>\n",
              "        </tr>\n",
              "    </tbody>\n",
              "</table>"
            ]
          },
          "metadata": {},
          "execution_count": 14
        }
      ],
      "source": [
        "%sql select SUM(\"Payload Mass\") from SPACEXTABLE;"
      ]
    },
    {
      "cell_type": "markdown",
      "metadata": {
        "id": "DggEKsQlw_s2"
      },
      "source": [
        "### Task 4\n",
        "\n",
        "\n",
        "\n",
        "\n",
        "##### Display average payload mass carried by booster version F9 v1.1\n"
      ]
    },
    {
      "cell_type": "code",
      "execution_count": 15,
      "metadata": {
        "colab": {
          "base_uri": "https://localhost:8080/",
          "height": 98
        },
        "id": "allF53ghw_s3",
        "outputId": "f98de604-7740-42ad-fa0f-d2757e43b4bc"
      },
      "outputs": [
        {
          "output_type": "stream",
          "name": "stdout",
          "text": [
            " * sqlite:///my_data1.db\n",
            "Done.\n"
          ]
        },
        {
          "output_type": "execute_result",
          "data": {
            "text/plain": [
              "[(30.793388429752067,)]"
            ],
            "text/html": [
              "<table>\n",
              "    <thead>\n",
              "        <tr>\n",
              "            <th>AVG(&quot;Payload mass&quot;)</th>\n",
              "        </tr>\n",
              "    </thead>\n",
              "    <tbody>\n",
              "        <tr>\n",
              "            <td>30.793388429752067</td>\n",
              "        </tr>\n",
              "    </tbody>\n",
              "</table>"
            ]
          },
          "metadata": {},
          "execution_count": 15
        }
      ],
      "source": [
        "%sql select AVG(\"Payload mass\") from SPACEXTABLE;"
      ]
    },
    {
      "cell_type": "markdown",
      "metadata": {
        "id": "cBXsNuZAw_s3"
      },
      "source": [
        "### Task 5\n",
        "\n",
        "##### List the date when the first succesful landing outcome in ground pad was acheived.\n",
        "\n",
        "\n",
        "_Hint:Use min function_\n"
      ]
    },
    {
      "cell_type": "code",
      "execution_count": 16,
      "metadata": {
        "colab": {
          "base_uri": "https://localhost:8080/",
          "height": 98
        },
        "id": "mjlLcTIVw_s3",
        "outputId": "8b4d9d80-9b07-4b23-b9bb-1d843ef45a0e"
      },
      "outputs": [
        {
          "output_type": "stream",
          "name": "stdout",
          "text": [
            " * sqlite:///my_data1.db\n",
            "Done.\n"
          ]
        },
        {
          "output_type": "execute_result",
          "data": {
            "text/plain": [
              "[('1 May 2017',)]"
            ],
            "text/html": [
              "<table>\n",
              "    <thead>\n",
              "        <tr>\n",
              "            <th>min(&quot;Date&quot;)</th>\n",
              "        </tr>\n",
              "    </thead>\n",
              "    <tbody>\n",
              "        <tr>\n",
              "            <td>1 May 2017</td>\n",
              "        </tr>\n",
              "    </tbody>\n",
              "</table>"
            ]
          },
          "metadata": {},
          "execution_count": 16
        }
      ],
      "source": [
        "%sql select min(\"Date\") from SPACEXTABLE where \"Booster landing\" like '%success%'"
      ]
    },
    {
      "cell_type": "markdown",
      "metadata": {
        "id": "yzH23AGLw_s3"
      },
      "source": [
        "### Task 6\n",
        "\n",
        "##### List the names of the boosters which have success in drone ship and have payload mass greater than 4000 but less than 6000\n"
      ]
    },
    {
      "cell_type": "code",
      "execution_count": 19,
      "metadata": {
        "colab": {
          "base_uri": "https://localhost:8080/",
          "height": 225
        },
        "id": "-3cxgLyYw_s3",
        "outputId": "5f2aaca5-e4ef-499c-88c6-5bd8b095f609"
      },
      "outputs": [
        {
          "output_type": "stream",
          "name": "stdout",
          "text": [
            " * sqlite:///my_data1.db\n",
            "Done.\n"
          ]
        },
        {
          "output_type": "execute_result",
          "data": {
            "text/plain": [
              "[('F9 FT♺[',),\n",
              " ('F9 FT[',),\n",
              " ('F9 FTB1031.2220',),\n",
              " ('F9 B5B1046.2354',),\n",
              " ('F9 B5B1047.2268',),\n",
              " ('F9 B5B1056.3482',),\n",
              " ('F9 B5B1058.2544',)]"
            ],
            "text/html": [
              "<table>\n",
              "    <thead>\n",
              "        <tr>\n",
              "            <th>Version Booster</th>\n",
              "        </tr>\n",
              "    </thead>\n",
              "    <tbody>\n",
              "        <tr>\n",
              "            <td>F9 FT♺[</td>\n",
              "        </tr>\n",
              "        <tr>\n",
              "            <td>F9 FT[</td>\n",
              "        </tr>\n",
              "        <tr>\n",
              "            <td>F9 FTB1031.2220</td>\n",
              "        </tr>\n",
              "        <tr>\n",
              "            <td>F9 B5B1046.2354</td>\n",
              "        </tr>\n",
              "        <tr>\n",
              "            <td>F9 B5B1047.2268</td>\n",
              "        </tr>\n",
              "        <tr>\n",
              "            <td>F9 B5B1056.3482</td>\n",
              "        </tr>\n",
              "        <tr>\n",
              "            <td>F9 B5B1058.2544</td>\n",
              "        </tr>\n",
              "    </tbody>\n",
              "</table>"
            ]
          },
          "metadata": {},
          "execution_count": 19
        }
      ],
      "source": [
        "%sql select \"Version Booster\" from SPACEXTABLE where \"Booster landing\" like '%success%' and \"Payload mass\" > 4000 and \"Payload mass\" < 6000;"
      ]
    },
    {
      "cell_type": "markdown",
      "metadata": {
        "id": "Hht71jcYw_s3"
      },
      "source": [
        "### Task 7\n",
        "\n",
        "\n",
        "\n",
        "\n",
        "##### List the total number of successful and failure mission outcomes\n"
      ]
    },
    {
      "cell_type": "code",
      "execution_count": 20,
      "metadata": {
        "colab": {
          "base_uri": "https://localhost:8080/",
          "height": 119
        },
        "id": "nMyFw7WWw_s3",
        "outputId": "d7431a95-e220-443f-f5f4-7b5677bd4e13"
      },
      "outputs": [
        {
          "output_type": "stream",
          "name": "stdout",
          "text": [
            " * sqlite:///my_data1.db\n",
            "Done.\n"
          ]
        },
        {
          "output_type": "execute_result",
          "data": {
            "text/plain": [
              "[(11,), (80,)]"
            ],
            "text/html": [
              "<table>\n",
              "    <thead>\n",
              "        <tr>\n",
              "            <th>count</th>\n",
              "        </tr>\n",
              "    </thead>\n",
              "    <tbody>\n",
              "        <tr>\n",
              "            <td>11</td>\n",
              "        </tr>\n",
              "        <tr>\n",
              "            <td>80</td>\n",
              "        </tr>\n",
              "    </tbody>\n",
              "</table>"
            ]
          },
          "metadata": {},
          "execution_count": 20
        }
      ],
      "source": [
        "%sql select count(\"Booster landing\") as count from SPACEXTABLE where \"Booster landing\" like '%failure%' union all select count(\"Booster landing\") as count from SPACEXTABLE where \"Booster landing\" like '%success%';"
      ]
    },
    {
      "cell_type": "markdown",
      "metadata": {
        "id": "XrkFSyrDw_s3"
      },
      "source": [
        "### Task 8\n",
        "\n",
        "\n",
        "\n",
        "##### List all the booster_versions that have carried the maximum payload mass. Use a subquery.\n"
      ]
    },
    {
      "cell_type": "code",
      "execution_count": 22,
      "metadata": {
        "colab": {
          "base_uri": "https://localhost:8080/",
          "height": 98
        },
        "id": "EhD5NN4Cw_s3",
        "outputId": "256fb1d8-b036-4fa3-a5ad-65335a0813e2"
      },
      "outputs": [
        {
          "output_type": "stream",
          "name": "stdout",
          "text": [
            " * sqlite:///my_data1.db\n",
            "Done.\n"
          ]
        },
        {
          "output_type": "execute_result",
          "data": {
            "text/plain": [
              "[('F9 B5B1058.5613',)]"
            ],
            "text/html": [
              "<table>\n",
              "    <thead>\n",
              "        <tr>\n",
              "            <th>Version Booster</th>\n",
              "        </tr>\n",
              "    </thead>\n",
              "    <tbody>\n",
              "        <tr>\n",
              "            <td>F9 B5B1058.5613</td>\n",
              "        </tr>\n",
              "    </tbody>\n",
              "</table>"
            ]
          },
          "metadata": {},
          "execution_count": 22
        }
      ],
      "source": [
        "%sql select distinct \"Version Booster\" from SPACEXTABLE where \"Payload mass\" = (select max(\"Payload mass\") from SPACEXTABLE);"
      ]
    },
    {
      "cell_type": "markdown",
      "metadata": {
        "id": "FM6lnfCyw_s3"
      },
      "source": [
        "### Task 9\n",
        "\n",
        "\n",
        "##### List the records which will display the month names, failure landing_outcomes in drone ship ,booster versions, launch_site for the months in year 2015.\n",
        "\n",
        "**Note: SQLLite does not support monthnames. So you need to use  substr(Date, 6,2) as month to get the months and substr(Date,0,5)='2015' for year.**\n"
      ]
    },
    {
      "cell_type": "code",
      "execution_count": 23,
      "metadata": {
        "colab": {
          "base_uri": "https://localhost:8080/",
          "height": 98
        },
        "id": "gMRaeo39w_s4",
        "outputId": "b220788b-636f-45c8-9e45-d6d39fd28c7c"
      },
      "outputs": [
        {
          "output_type": "stream",
          "name": "stdout",
          "text": [
            " * sqlite:///my_data1.db\n",
            "Done.\n"
          ]
        },
        {
          "output_type": "execute_result",
          "data": {
            "text/plain": [
              "[(30.793388429752067,)]"
            ],
            "text/html": [
              "<table>\n",
              "    <thead>\n",
              "        <tr>\n",
              "            <th>AveragePayloadMass</th>\n",
              "        </tr>\n",
              "    </thead>\n",
              "    <tbody>\n",
              "        <tr>\n",
              "            <td>30.793388429752067</td>\n",
              "        </tr>\n",
              "    </tbody>\n",
              "</table>"
            ]
          },
          "metadata": {},
          "execution_count": 23
        }
      ],
      "source": [
        "%sql select avg(\"Payload mass\") as AveragePayloadMass from SPACEXTABLE;"
      ]
    },
    {
      "cell_type": "markdown",
      "metadata": {
        "id": "umDLz1wlw_s4"
      },
      "source": [
        "### Task 10\n",
        "\n",
        "\n",
        "\n",
        "\n",
        "##### Rank the count of landing outcomes (such as Failure (drone ship) or Success (ground pad)) between the date 2010-06-04 and 2017-03-20, in descending order.\n"
      ]
    },
    {
      "cell_type": "code",
      "execution_count": 25,
      "metadata": {
        "colab": {
          "base_uri": "https://localhost:8080/",
          "height": 1000
        },
        "id": "FOvB9XpOw_s4",
        "outputId": "adb23a84-1ff8-43d8-a46c-6a7051d1ce7e"
      },
      "outputs": [
        {
          "output_type": "stream",
          "name": "stdout",
          "text": [
            " * sqlite:///my_data1.db\n",
            "Done.\n"
          ]
        },
        {
          "output_type": "execute_result",
          "data": {
            "text/plain": [
              "[(20, 'Cape Canaveral', 'Orbcomm-OG2', '2,034 kg', 'LEO', 'Orbcomm', 'Success\\n', 'F9 FT[', 'Success', '22 December 2015', '01:29'),\n",
              " (23, 'Cape Canaveral', 'SpaceX CRS-8', '3,136 kg', 'LEO', 'NASA', 'Success', 'F9 FT[', 'Success', '8 April 2016', '20:43'),\n",
              " (24, 'Cape Canaveral', 'JCSAT-14', '4,696 kg', 'GTO', 'SKY Perfect JSAT Group', 'Success\\n', 'F9 FT[', 'Success', '6 May 2016', '05:21'),\n",
              " (25, 'Cape Canaveral', 'Thaicom 8', '3,100 kg', 'GTO', 'Thaicom', 'Success\\n', 'F9 FT[', 'Success', '27 May 2016', '21:39'),\n",
              " (27, 'Cape Canaveral', 'SpaceX CRS-9', '2,257 kg', 'LEO', 'NASA', 'Success\\n', 'F9 FT[', 'Success', '18 July 2016', '04:45'),\n",
              " (28, 'Cape Canaveral', 'JCSAT-16', '4,600 kg', 'GTO', 'SKY Perfect JSAT Group', 'Success\\n', 'F9 FT[', 'Success', '14 August 2016', '05:26'),\n",
              " (29, 'VAFB', 'Iridium NEXT', '9,600 kg', 'Polar', 'Iridium Communications', 'Success\\n', 'F9 FT[', 'Success', '14 January 2017', '17:54'),\n",
              " (30, 'KSC', 'SpaceX CRS-10', '2,490 kg', 'LEO', 'NASA', 'Success\\n', 'F9 FT[', 'Success', '19 February 2017', '14:39'),\n",
              " (32, 'KSC', 'SES-10', '5,300 kg', 'GTO', 'SES', 'Success', 'F9 FT♺[', 'Success', '30 March 2017', '22:27'),\n",
              " (33, 'KSC', 'NROL-76', 'C', 'LEO', 'NRO', 'Success\\n', 'F9 FT[', 'Success', '1 May 2017', '11:15'),\n",
              " (35, 'KSC', 'SpaceX CRS-11', '2,708 kg', 'LEO', 'NASA', 'Success\\n', 'F9 FT[', 'Success', '3 June 2017', '21:07'),\n",
              " (36, 'KSC', 'BulgariaSat-1', '3,669 kg', 'GTO', 'Bulsatcom', 'Success\\n', 'F9 FTB1029.2195', 'Success', '23 June 2017', '19:10'),\n",
              " (37, 'VAFB', 'Iridium NEXT', '9,600 kg', 'LEO', 'Iridium Communications', 'Success\\n', 'F9 FT[', 'Success', '25 June 2017', '20:25'),\n",
              " (39, 'KSC', 'SpaceX CRS-12', '3,310 kg', 'LEO', 'NASA', 'Success\\n', 'F9 B4[', 'Success', '14 August 2017', '16:31'),\n",
              " (40, 'VAFB', 'Formosat-5', '475 kg', 'SSO', 'NSPO', 'Success\\n', 'F9 FT[', 'Success', '24 August 2017', '18:51'),\n",
              " (41, 'KSC', 'Boeing X-37B', '4,990 kg', 'LEO', 'USAF', 'Success\\n', 'F9 B4[', 'Success', '7 September 2017', '14:00'),\n",
              " (42, 'VAFB', 'Iridium NEXT', '9,600 kg', 'Polar', 'Iridium Communications', 'Success\\n', 'F9 B4[', 'Success', '9 October 2017', '12:37'),\n",
              " (43, 'KSC', 'SES-11', '5,200 kg', 'GTO', 'SES S.A.', 'Success\\n', 'F9 FTB1031.2220', 'Success', '11 October 2017', '22:53:00'),\n",
              " (44, 'KSC', 'Koreasat 5A', '3,500 kg', 'GTO', 'KT Corporation', 'Success\\n', 'F9 B4[', 'Success', '30 October 2017', '19:34'),\n",
              " (45, 'Cape Canaveral', 'SpaceX CRS-13', '2,205 kg', 'LEO', 'NASA', 'Success\\n', 'F9 FTB1035.2227', 'Success', '15 December 2017', '15:36'),\n",
              " (47, 'CCAFS', 'Zuma', 'C', 'LEO', 'Northrop Grumman', 'Success', 'F9 B4[', 'Success', '8 January 2018', '01:00'),\n",
              " (53, 'CCAFS', 'Transiting Exoplanet Survey Satellite', '362 kg', 'HEO', 'NASA', 'Success', 'F9 B4[', 'Success', '18 April 2018', '22:51'),\n",
              " (54, 'KSC', 'Bangabandhu-1', '3,600 kg', 'GTO', 'Thales-Alenia', 'Success', 'F9 B5311B1046.1268', 'Success', '11 May 2018', '20:14'),\n",
              " (58, 'CCAFS', 'Telstar 19V', '7,075 kg', 'GTO', 'Telesat', 'Success', 'F9 B5', 'Success', '22 July 2018', '05:50'),\n",
              " (59, 'VAFB', 'Iridium NEXT', '9,600 kg', 'Polar', 'Iridium Communications', 'Success', 'F9 B5349B1048[', 'Success', '25 July 2018', '11:39'),\n",
              " (60, 'CCAFS', 'Merah Putih', '5,800 kg', 'GTO', 'Telkom Indonesia', 'Success', 'F9 B5B1046.2354', 'Success', '7 August 2018', '05:18'),\n",
              " (61, 'CCAFS', 'Telstar 18V', '7,060 kg', 'GTO', 'Telesat', 'Success', 'F9 B5[', 'Success', '10 September 2018', '04:45'),\n",
              " (62, 'VAFB', 'SAOCOM 1A', '3,000 kg', 'SSO', 'CONAE', 'Success', 'F9 B5B1048.2364', 'Success', '8 October 2018', '02:22'),\n",
              " (63, 'KSC', \"Es'hail 2\", '5,300 kg', 'GTO', \"Es'hailSat\", 'Success', 'F9 B5B1047.2268', 'Success', '15 November 2018', '20:46'),\n",
              " (64, 'VAFB', 'SSO-A', '~4,000 kg', 'SSO', 'Spaceflight Industries', 'Success', 'F9 B5B1046.3268', 'Success', '3 December 2018', '18:34:05'),\n",
              " (67, 'VAFB', 'Iridium NEXT', '9,600 kg', 'Polar', 'Iridium Communications', 'Success\\n', 'F9 B5B1049.2397', 'Success', '11 January 2019', '15:31'),\n",
              " (68, 'CCAFS', 'Nusantara Satu', '4,850 kg', 'GTO', 'PSN', 'Success\\n', 'F9 B5B1048.3399', 'Success', '22 February 2019', '01:45'),\n",
              " (69, 'KSC', 'Crew Dragon Demo-1', '12,055 kg', 'LEO', 'NASA', 'Success\\n', 'F9 B5[]413', 'Success', '2 March 2019', '07:49'),\n",
              " (70, 'CCAFS', 'SpaceX CRS-17', '2,495 kg', 'LEO', 'NASA', 'Success\\n', 'F9 B5[', 'Success', '4 May 2019', '06:48'),\n",
              " (71, 'CCAFS', 'Starlink', '13,620 kg', 'LEO', 'SpaceX', 'Success\\n', 'F9 B5B1049.3434', 'Success', '24 May 2019', '02:30'),\n",
              " (72, 'VAFB', 'RADARSAT Constellation', '4,200 kg', 'SSO', 'Canadian Space Agency', 'Success\\n', 'F9 B5B1051.2420', 'Success', '12 June 2019', '14:17'),\n",
              " (73, 'CCAFS', 'SpaceX CRS-18', '2,268 kg', 'LEO', 'NASA', 'Success\\n', 'F9 B5B1056.2465', 'Success', '25 July 2019', '22:01'),\n",
              " (75, 'CCAFS', 'Starlink', '15,600 kg', 'LEO', 'SpaceX', 'Success\\n', 'F9 B5', 'Success', '11 November 2019', '14:56'),\n",
              " (76, 'CCAFS', 'SpaceX CRS-19', '2,617 kg', 'LEO', 'NASA', 'Success\\n', 'F9 B5[', 'Success', '5 December 2019', '17:29'),\n",
              " (77, 'CCAFS', 'JCSat-18', '6,956 kg', 'GTO', 'Sky Perfect JSAT', 'Success\\n', 'F9 B5B1056.3482', 'Success', '17 December 2019', '00:10'),\n",
              " (78, 'CCAFS', 'Starlink', '15,600 kg', 'LEO', 'SpaceX', 'Success\\n', 'F9 B5', 'Success', '7 January 2020', '02:19:21'),\n",
              " (80, 'CCAFS', 'Starlink', '15,600 kg', 'LEO', 'SpaceX', 'Success\\n', 'F9 B5', 'Success', '29 January 2020', '14:07'),\n",
              " (82, 'CCAFS', 'SpaceX CRS-20', '1,977 kg', 'LEO', 'NASA', 'Success\\n', 'F9 B5', 'Success', '7 March 2020', '04:50'),\n",
              " (84, 'KSC', 'Starlink', '15,600 kg', 'LEO', 'SpaceX', 'Success\\n', 'F9 B5', 'Success', '22 April 2020', '19:30'),\n",
              " (85, 'KSC', 'Crew Dragon Demo-2', '12,530 kg', 'LEO', 'NASA', 'Success\\n', 'F9 B5[', 'Success', '30 May 2020', '19:22'),\n",
              " (86, 'CCAFS', 'Starlink', '15,600 kg', 'LEO', 'SpaceX', 'Success\\n', 'F9 B5', 'Success', '4 June 2020', '01:25'),\n",
              " (87, 'CCAFS', 'Starlink', '15,410 kg', 'LEO', 'SpaceX', 'Success\\n', 'F9 B5', 'Success', '13 June 2020', '09:21'),\n",
              " (88, 'CCAFS', 'GPS III', '4,311 kg', 'MEO', 'U.S. Space Force', 'Success\\n', 'F9 B5', 'Success', '30 June 2020', '20:10:46'),\n",
              " (89, 'CCAFS', 'ANASIS-II', '5,000–6,000 kg', 'GTO', 'Republic of Korea Army', 'Success\\n', 'F9 B5B1058.2544', 'Success', '20 July 2020', '21:30'),\n",
              " (90, 'KSC', 'Starlink', '14,932 kg', 'LEO', 'SpaceX', 'Success\\n', 'F9 B5', 'Success', '7 August 2020', '05:12'),\n",
              " (91, 'CCAFS', 'Starlink', '~15,440 kg', 'LEO', 'SpaceX', 'Success\\n', 'F9 B5B1049.6544', 'Success', '18 August 2020', '14:31'),\n",
              " (92, 'CCAFS', 'SAOCOM 1B', '3,130 kg', 'SSO', 'CONAE', 'Success\\n', 'F9 B5', 'Success', '30 August 2020', '23:18'),\n",
              " (93, 'KSC', 'Starlink', '15,600 kg', 'LEO', 'SpaceX', 'Success\\n', 'F9 B5B1060.2563', 'Success', '3 September 2020', '12:46:14'),\n",
              " (94, 'KSC', 'Starlink', '15,600 kg', 'LEO', 'SpaceX', 'Success\\n', 'F9 B5B1058.3565', 'Success', '6 October 2020', '11:29:34'),\n",
              " (95, 'KSC', 'Starlink', '15,600 kg', 'LEO', 'SpaceX', 'Success\\n', 'F9 B5B1051.6568', 'Success', '18 October 2020', '12:25:57'),\n",
              " (96, 'CCAFS', 'Starlink', '15,600 kg', 'LEO', 'SpaceX', 'Success\\n', 'F9 B5', 'Success', '24 October 2020', '15:31:34'),\n",
              " (97, 'CCAFS', 'GPS III', '4,311 kg', 'MEO', 'USSF', 'Success\\n', 'F9 B5', 'Success', '5 November 2020', '23:24:23'),\n",
              " (98, 'KSC', 'Crew-1', '~12,500 kg', 'LEO', 'NASA', 'Success\\n', 'F9 B5[', 'Success', '16 November 2020', '00:27'),\n",
              " (99, 'VAFB', 'Sentinel-6 Michael Freilich (Jason-CS A)', '1,192 kg', 'LEO', 'NASA', 'Success\\n', 'F9 B5', 'Success', '21 November 2020', '17:17:08'),\n",
              " (100, 'CCAFS', 'Starlink', '15,600 kg', 'LEO', 'SpaceX', 'Success\\n', 'F9 B5 ♺[', 'Success', '25 November 2020', '02:13'),\n",
              " (101, 'KSC', 'SpaceX CRS-21', '2,972 kg', 'LEO', 'NASA', 'Success\\n', 'F9 B5 ♺[', 'Success', '6 December 2020', '16:17:08'),\n",
              " (102, 'CCSFS', 'SXM-7', '7,000 kg', 'GTO', 'Sirius XM', 'Success\\n', 'F9 B5 ♺', 'Success', '13 December 2020', '17:30:00'),\n",
              " (103, 'KSC', 'NROL-108', 'C', 'LEO', 'NRO', 'Success\\n', 'F9 B5 ♺', 'Success', '19 December 2020', '14:00:00'),\n",
              " (104, 'CCSFS', 'Türksat 5A', '3,500 kg', 'GTO', 'Türksat', 'Success\\n', 'F9 B5', 'Success', '8 January 2021', '02:15'),\n",
              " (105, 'KSC', 'Starlink', '15,600 kg', 'LEO', 'SpaceX', 'Success\\n', 'F9 B5B1051.8609', 'Success', '20 January 2021', '13:02'),\n",
              " (106, 'CCSFS', 'Transporter-1', '~5,000 kg', 'SSO', None, 'Success\\n', 'F9 B5B1058.5613', 'Success', '24 January 2021', '15:00'),\n",
              " (107, 'CCSFS', 'Starlink', '15,600 kg', 'LEO', 'SpaceX', 'Success\\n', 'F9 B5 ♺[', 'Success', '4 February 2021', '06:19'),\n",
              " (109, 'KSC', 'Starlink', '15,600 kg', 'LEO', 'SpaceX', 'Success\\n', 'F9 B5 ♺[', 'Success', '4 March 2021', '08:24'),\n",
              " (110, 'CCSFS', 'Starlink', '15,600 kg', 'LEO', 'SpaceX', 'Success\\n', 'F9 B5 ♺[', 'Success', '11 March 2021', '08:13:29'),\n",
              " (111, 'KSC', 'Starlink', '15,600 kg', 'LEO', 'SpaceX', 'Success\\n', 'F9 B5 ♺', 'Success', '14 March 2021', '10:01'),\n",
              " (112, 'CCSFS', 'Starlink', '15,600 kg', 'LEO', 'SpaceX', 'Success\\n', 'F9 B5B1060.6643', 'Success', '24 March 2021', '08:28'),\n",
              " (113, 'CCSFS', 'Starlink', '15,600 kg', 'LEO', 'SpaceX', 'Success\\n', 'F9 B5 ♺', 'Success', '7 April 2021', '16:34'),\n",
              " (114, 'KSC', 'Crew-2', '~13,000 kg', 'LEO', 'NASA', 'Success\\n', 'F9 B5B1061.2647', 'Success', '23 April 2021', '9:49'),\n",
              " (115, 'CCSFS', 'Starlink', '15,600 kg', 'LEO', 'SpaceX', 'Success\\n', 'F9 B5B1060.7652', 'Success', '29 April 2021', '03:44'),\n",
              " (116, 'KSC', 'Starlink', '15,600 kg', 'LEO', 'SpaceX', 'Success\\n', 'F9 B5B1049.9655', 'Success', '4 May 2021', '19:01'),\n",
              " (117, 'CCSFS', 'Starlink', '15,600 kg', 'LEO', 'SpaceX', 'Success\\n', 'F9 B5B1051.10657', 'Success', '9 May 2021', '06:42'),\n",
              " (118, 'KSC', 'Starlink', '~14,000 kg', 'LEO', 'SpaceX', 'Success\\n', 'F9 B5B1058.8660', 'Success', '15 May 2021', '22:56'),\n",
              " (119, 'CCSFS', 'Starlink', '15,600 kg', 'LEO', 'SpaceX', 'Success\\n', 'F9 B5B1063.2665', 'Success', '26 May 2021', '18:59'),\n",
              " (120, 'KSC', 'SpaceX CRS-22', '3,328 kg', 'LEO', 'NASA', 'Success\\n', 'F9 B5B1067.1668', 'Success', '3 June 2021', '17:29'),\n",
              " (121, 'CCSFS', 'SXM-8', '7,000 kg', 'GTO', 'Sirius XM', 'Success\\n', 'F9 B5', 'Success', '6 June 2021', '04:26')]"
            ],
            "text/html": [
              "<table>\n",
              "    <thead>\n",
              "        <tr>\n",
              "            <th>Flight No.</th>\n",
              "            <th>Launch site</th>\n",
              "            <th>Payload</th>\n",
              "            <th>Payload mass</th>\n",
              "            <th>Orbit</th>\n",
              "            <th>Customer</th>\n",
              "            <th>Launch outcome</th>\n",
              "            <th>Version Booster</th>\n",
              "            <th>Booster landing</th>\n",
              "            <th>Date</th>\n",
              "            <th>Time</th>\n",
              "        </tr>\n",
              "    </thead>\n",
              "    <tbody>\n",
              "        <tr>\n",
              "            <td>20</td>\n",
              "            <td>Cape Canaveral</td>\n",
              "            <td>Orbcomm-OG2</td>\n",
              "            <td>2,034 kg</td>\n",
              "            <td>LEO</td>\n",
              "            <td>Orbcomm</td>\n",
              "            <td>Success<br></td>\n",
              "            <td>F9 FT[</td>\n",
              "            <td>Success</td>\n",
              "            <td>22 December 2015</td>\n",
              "            <td>01:29</td>\n",
              "        </tr>\n",
              "        <tr>\n",
              "            <td>23</td>\n",
              "            <td>Cape Canaveral</td>\n",
              "            <td>SpaceX CRS-8</td>\n",
              "            <td>3,136 kg</td>\n",
              "            <td>LEO</td>\n",
              "            <td>NASA</td>\n",
              "            <td>Success</td>\n",
              "            <td>F9 FT[</td>\n",
              "            <td>Success</td>\n",
              "            <td>8 April 2016</td>\n",
              "            <td>20:43</td>\n",
              "        </tr>\n",
              "        <tr>\n",
              "            <td>24</td>\n",
              "            <td>Cape Canaveral</td>\n",
              "            <td>JCSAT-14</td>\n",
              "            <td>4,696 kg</td>\n",
              "            <td>GTO</td>\n",
              "            <td>SKY Perfect JSAT Group</td>\n",
              "            <td>Success<br></td>\n",
              "            <td>F9 FT[</td>\n",
              "            <td>Success</td>\n",
              "            <td>6 May 2016</td>\n",
              "            <td>05:21</td>\n",
              "        </tr>\n",
              "        <tr>\n",
              "            <td>25</td>\n",
              "            <td>Cape Canaveral</td>\n",
              "            <td>Thaicom 8</td>\n",
              "            <td>3,100 kg</td>\n",
              "            <td>GTO</td>\n",
              "            <td>Thaicom</td>\n",
              "            <td>Success<br></td>\n",
              "            <td>F9 FT[</td>\n",
              "            <td>Success</td>\n",
              "            <td>27 May 2016</td>\n",
              "            <td>21:39</td>\n",
              "        </tr>\n",
              "        <tr>\n",
              "            <td>27</td>\n",
              "            <td>Cape Canaveral</td>\n",
              "            <td>SpaceX CRS-9</td>\n",
              "            <td>2,257 kg</td>\n",
              "            <td>LEO</td>\n",
              "            <td>NASA</td>\n",
              "            <td>Success<br></td>\n",
              "            <td>F9 FT[</td>\n",
              "            <td>Success</td>\n",
              "            <td>18 July 2016</td>\n",
              "            <td>04:45</td>\n",
              "        </tr>\n",
              "        <tr>\n",
              "            <td>28</td>\n",
              "            <td>Cape Canaveral</td>\n",
              "            <td>JCSAT-16</td>\n",
              "            <td>4,600 kg</td>\n",
              "            <td>GTO</td>\n",
              "            <td>SKY Perfect JSAT Group</td>\n",
              "            <td>Success<br></td>\n",
              "            <td>F9 FT[</td>\n",
              "            <td>Success</td>\n",
              "            <td>14 August 2016</td>\n",
              "            <td>05:26</td>\n",
              "        </tr>\n",
              "        <tr>\n",
              "            <td>29</td>\n",
              "            <td>VAFB</td>\n",
              "            <td>Iridium NEXT</td>\n",
              "            <td>9,600 kg</td>\n",
              "            <td>Polar</td>\n",
              "            <td>Iridium Communications</td>\n",
              "            <td>Success<br></td>\n",
              "            <td>F9 FT[</td>\n",
              "            <td>Success</td>\n",
              "            <td>14 January 2017</td>\n",
              "            <td>17:54</td>\n",
              "        </tr>\n",
              "        <tr>\n",
              "            <td>30</td>\n",
              "            <td>KSC</td>\n",
              "            <td>SpaceX CRS-10</td>\n",
              "            <td>2,490 kg</td>\n",
              "            <td>LEO</td>\n",
              "            <td>NASA</td>\n",
              "            <td>Success<br></td>\n",
              "            <td>F9 FT[</td>\n",
              "            <td>Success</td>\n",
              "            <td>19 February 2017</td>\n",
              "            <td>14:39</td>\n",
              "        </tr>\n",
              "        <tr>\n",
              "            <td>32</td>\n",
              "            <td>KSC</td>\n",
              "            <td>SES-10</td>\n",
              "            <td>5,300 kg</td>\n",
              "            <td>GTO</td>\n",
              "            <td>SES</td>\n",
              "            <td>Success</td>\n",
              "            <td>F9 FT♺[</td>\n",
              "            <td>Success</td>\n",
              "            <td>30 March 2017</td>\n",
              "            <td>22:27</td>\n",
              "        </tr>\n",
              "        <tr>\n",
              "            <td>33</td>\n",
              "            <td>KSC</td>\n",
              "            <td>NROL-76</td>\n",
              "            <td>C</td>\n",
              "            <td>LEO</td>\n",
              "            <td>NRO</td>\n",
              "            <td>Success<br></td>\n",
              "            <td>F9 FT[</td>\n",
              "            <td>Success</td>\n",
              "            <td>1 May 2017</td>\n",
              "            <td>11:15</td>\n",
              "        </tr>\n",
              "        <tr>\n",
              "            <td>35</td>\n",
              "            <td>KSC</td>\n",
              "            <td>SpaceX CRS-11</td>\n",
              "            <td>2,708 kg</td>\n",
              "            <td>LEO</td>\n",
              "            <td>NASA</td>\n",
              "            <td>Success<br></td>\n",
              "            <td>F9 FT[</td>\n",
              "            <td>Success</td>\n",
              "            <td>3 June 2017</td>\n",
              "            <td>21:07</td>\n",
              "        </tr>\n",
              "        <tr>\n",
              "            <td>36</td>\n",
              "            <td>KSC</td>\n",
              "            <td>BulgariaSat-1</td>\n",
              "            <td>3,669 kg</td>\n",
              "            <td>GTO</td>\n",
              "            <td>Bulsatcom</td>\n",
              "            <td>Success<br></td>\n",
              "            <td>F9 FTB1029.2195</td>\n",
              "            <td>Success</td>\n",
              "            <td>23 June 2017</td>\n",
              "            <td>19:10</td>\n",
              "        </tr>\n",
              "        <tr>\n",
              "            <td>37</td>\n",
              "            <td>VAFB</td>\n",
              "            <td>Iridium NEXT</td>\n",
              "            <td>9,600 kg</td>\n",
              "            <td>LEO</td>\n",
              "            <td>Iridium Communications</td>\n",
              "            <td>Success<br></td>\n",
              "            <td>F9 FT[</td>\n",
              "            <td>Success</td>\n",
              "            <td>25 June 2017</td>\n",
              "            <td>20:25</td>\n",
              "        </tr>\n",
              "        <tr>\n",
              "            <td>39</td>\n",
              "            <td>KSC</td>\n",
              "            <td>SpaceX CRS-12</td>\n",
              "            <td>3,310 kg</td>\n",
              "            <td>LEO</td>\n",
              "            <td>NASA</td>\n",
              "            <td>Success<br></td>\n",
              "            <td>F9 B4[</td>\n",
              "            <td>Success</td>\n",
              "            <td>14 August 2017</td>\n",
              "            <td>16:31</td>\n",
              "        </tr>\n",
              "        <tr>\n",
              "            <td>40</td>\n",
              "            <td>VAFB</td>\n",
              "            <td>Formosat-5</td>\n",
              "            <td>475 kg</td>\n",
              "            <td>SSO</td>\n",
              "            <td>NSPO</td>\n",
              "            <td>Success<br></td>\n",
              "            <td>F9 FT[</td>\n",
              "            <td>Success</td>\n",
              "            <td>24 August 2017</td>\n",
              "            <td>18:51</td>\n",
              "        </tr>\n",
              "        <tr>\n",
              "            <td>41</td>\n",
              "            <td>KSC</td>\n",
              "            <td>Boeing X-37B</td>\n",
              "            <td>4,990 kg</td>\n",
              "            <td>LEO</td>\n",
              "            <td>USAF</td>\n",
              "            <td>Success<br></td>\n",
              "            <td>F9 B4[</td>\n",
              "            <td>Success</td>\n",
              "            <td>7 September 2017</td>\n",
              "            <td>14:00</td>\n",
              "        </tr>\n",
              "        <tr>\n",
              "            <td>42</td>\n",
              "            <td>VAFB</td>\n",
              "            <td>Iridium NEXT</td>\n",
              "            <td>9,600 kg</td>\n",
              "            <td>Polar</td>\n",
              "            <td>Iridium Communications</td>\n",
              "            <td>Success<br></td>\n",
              "            <td>F9 B4[</td>\n",
              "            <td>Success</td>\n",
              "            <td>9 October 2017</td>\n",
              "            <td>12:37</td>\n",
              "        </tr>\n",
              "        <tr>\n",
              "            <td>43</td>\n",
              "            <td>KSC</td>\n",
              "            <td>SES-11</td>\n",
              "            <td>5,200 kg</td>\n",
              "            <td>GTO</td>\n",
              "            <td>SES S.A.</td>\n",
              "            <td>Success<br></td>\n",
              "            <td>F9 FTB1031.2220</td>\n",
              "            <td>Success</td>\n",
              "            <td>11 October 2017</td>\n",
              "            <td>22:53:00</td>\n",
              "        </tr>\n",
              "        <tr>\n",
              "            <td>44</td>\n",
              "            <td>KSC</td>\n",
              "            <td>Koreasat 5A</td>\n",
              "            <td>3,500 kg</td>\n",
              "            <td>GTO</td>\n",
              "            <td>KT Corporation</td>\n",
              "            <td>Success<br></td>\n",
              "            <td>F9 B4[</td>\n",
              "            <td>Success</td>\n",
              "            <td>30 October 2017</td>\n",
              "            <td>19:34</td>\n",
              "        </tr>\n",
              "        <tr>\n",
              "            <td>45</td>\n",
              "            <td>Cape Canaveral</td>\n",
              "            <td>SpaceX CRS-13</td>\n",
              "            <td>2,205 kg</td>\n",
              "            <td>LEO</td>\n",
              "            <td>NASA</td>\n",
              "            <td>Success<br></td>\n",
              "            <td>F9 FTB1035.2227</td>\n",
              "            <td>Success</td>\n",
              "            <td>15 December 2017</td>\n",
              "            <td>15:36</td>\n",
              "        </tr>\n",
              "        <tr>\n",
              "            <td>47</td>\n",
              "            <td>CCAFS</td>\n",
              "            <td>Zuma</td>\n",
              "            <td>C</td>\n",
              "            <td>LEO</td>\n",
              "            <td>Northrop Grumman</td>\n",
              "            <td>Success</td>\n",
              "            <td>F9 B4[</td>\n",
              "            <td>Success</td>\n",
              "            <td>8 January 2018</td>\n",
              "            <td>01:00</td>\n",
              "        </tr>\n",
              "        <tr>\n",
              "            <td>53</td>\n",
              "            <td>CCAFS</td>\n",
              "            <td>Transiting Exoplanet Survey Satellite</td>\n",
              "            <td>362 kg</td>\n",
              "            <td>HEO</td>\n",
              "            <td>NASA</td>\n",
              "            <td>Success</td>\n",
              "            <td>F9 B4[</td>\n",
              "            <td>Success</td>\n",
              "            <td>18 April 2018</td>\n",
              "            <td>22:51</td>\n",
              "        </tr>\n",
              "        <tr>\n",
              "            <td>54</td>\n",
              "            <td>KSC</td>\n",
              "            <td>Bangabandhu-1</td>\n",
              "            <td>3,600 kg</td>\n",
              "            <td>GTO</td>\n",
              "            <td>Thales-Alenia</td>\n",
              "            <td>Success</td>\n",
              "            <td>F9 B5311B1046.1268</td>\n",
              "            <td>Success</td>\n",
              "            <td>11 May 2018</td>\n",
              "            <td>20:14</td>\n",
              "        </tr>\n",
              "        <tr>\n",
              "            <td>58</td>\n",
              "            <td>CCAFS</td>\n",
              "            <td>Telstar 19V</td>\n",
              "            <td>7,075 kg</td>\n",
              "            <td>GTO</td>\n",
              "            <td>Telesat</td>\n",
              "            <td>Success</td>\n",
              "            <td>F9 B5</td>\n",
              "            <td>Success</td>\n",
              "            <td>22 July 2018</td>\n",
              "            <td>05:50</td>\n",
              "        </tr>\n",
              "        <tr>\n",
              "            <td>59</td>\n",
              "            <td>VAFB</td>\n",
              "            <td>Iridium NEXT</td>\n",
              "            <td>9,600 kg</td>\n",
              "            <td>Polar</td>\n",
              "            <td>Iridium Communications</td>\n",
              "            <td>Success</td>\n",
              "            <td>F9 B5349B1048[</td>\n",
              "            <td>Success</td>\n",
              "            <td>25 July 2018</td>\n",
              "            <td>11:39</td>\n",
              "        </tr>\n",
              "        <tr>\n",
              "            <td>60</td>\n",
              "            <td>CCAFS</td>\n",
              "            <td>Merah Putih</td>\n",
              "            <td>5,800 kg</td>\n",
              "            <td>GTO</td>\n",
              "            <td>Telkom Indonesia</td>\n",
              "            <td>Success</td>\n",
              "            <td>F9 B5B1046.2354</td>\n",
              "            <td>Success</td>\n",
              "            <td>7 August 2018</td>\n",
              "            <td>05:18</td>\n",
              "        </tr>\n",
              "        <tr>\n",
              "            <td>61</td>\n",
              "            <td>CCAFS</td>\n",
              "            <td>Telstar 18V</td>\n",
              "            <td>7,060 kg</td>\n",
              "            <td>GTO</td>\n",
              "            <td>Telesat</td>\n",
              "            <td>Success</td>\n",
              "            <td>F9 B5[</td>\n",
              "            <td>Success</td>\n",
              "            <td>10 September 2018</td>\n",
              "            <td>04:45</td>\n",
              "        </tr>\n",
              "        <tr>\n",
              "            <td>62</td>\n",
              "            <td>VAFB</td>\n",
              "            <td>SAOCOM 1A</td>\n",
              "            <td>3,000 kg</td>\n",
              "            <td>SSO</td>\n",
              "            <td>CONAE</td>\n",
              "            <td>Success</td>\n",
              "            <td>F9 B5B1048.2364</td>\n",
              "            <td>Success</td>\n",
              "            <td>8 October 2018</td>\n",
              "            <td>02:22</td>\n",
              "        </tr>\n",
              "        <tr>\n",
              "            <td>63</td>\n",
              "            <td>KSC</td>\n",
              "            <td>Es&#x27;hail 2</td>\n",
              "            <td>5,300 kg</td>\n",
              "            <td>GTO</td>\n",
              "            <td>Es&#x27;hailSat</td>\n",
              "            <td>Success</td>\n",
              "            <td>F9 B5B1047.2268</td>\n",
              "            <td>Success</td>\n",
              "            <td>15 November 2018</td>\n",
              "            <td>20:46</td>\n",
              "        </tr>\n",
              "        <tr>\n",
              "            <td>64</td>\n",
              "            <td>VAFB</td>\n",
              "            <td>SSO-A</td>\n",
              "            <td>~4,000 kg</td>\n",
              "            <td>SSO</td>\n",
              "            <td>Spaceflight Industries</td>\n",
              "            <td>Success</td>\n",
              "            <td>F9 B5B1046.3268</td>\n",
              "            <td>Success</td>\n",
              "            <td>3 December 2018</td>\n",
              "            <td>18:34:05</td>\n",
              "        </tr>\n",
              "        <tr>\n",
              "            <td>67</td>\n",
              "            <td>VAFB</td>\n",
              "            <td>Iridium NEXT</td>\n",
              "            <td>9,600 kg</td>\n",
              "            <td>Polar</td>\n",
              "            <td>Iridium Communications</td>\n",
              "            <td>Success<br></td>\n",
              "            <td>F9 B5B1049.2397</td>\n",
              "            <td>Success</td>\n",
              "            <td>11 January 2019</td>\n",
              "            <td>15:31</td>\n",
              "        </tr>\n",
              "        <tr>\n",
              "            <td>68</td>\n",
              "            <td>CCAFS</td>\n",
              "            <td>Nusantara Satu</td>\n",
              "            <td>4,850 kg</td>\n",
              "            <td>GTO</td>\n",
              "            <td>PSN</td>\n",
              "            <td>Success<br></td>\n",
              "            <td>F9 B5B1048.3399</td>\n",
              "            <td>Success</td>\n",
              "            <td>22 February 2019</td>\n",
              "            <td>01:45</td>\n",
              "        </tr>\n",
              "        <tr>\n",
              "            <td>69</td>\n",
              "            <td>KSC</td>\n",
              "            <td>Crew Dragon Demo-1</td>\n",
              "            <td>12,055 kg</td>\n",
              "            <td>LEO</td>\n",
              "            <td>NASA</td>\n",
              "            <td>Success<br></td>\n",
              "            <td>F9 B5[]413</td>\n",
              "            <td>Success</td>\n",
              "            <td>2 March 2019</td>\n",
              "            <td>07:49</td>\n",
              "        </tr>\n",
              "        <tr>\n",
              "            <td>70</td>\n",
              "            <td>CCAFS</td>\n",
              "            <td>SpaceX CRS-17</td>\n",
              "            <td>2,495 kg</td>\n",
              "            <td>LEO</td>\n",
              "            <td>NASA</td>\n",
              "            <td>Success<br></td>\n",
              "            <td>F9 B5[</td>\n",
              "            <td>Success</td>\n",
              "            <td>4 May 2019</td>\n",
              "            <td>06:48</td>\n",
              "        </tr>\n",
              "        <tr>\n",
              "            <td>71</td>\n",
              "            <td>CCAFS</td>\n",
              "            <td>Starlink</td>\n",
              "            <td>13,620 kg</td>\n",
              "            <td>LEO</td>\n",
              "            <td>SpaceX</td>\n",
              "            <td>Success<br></td>\n",
              "            <td>F9 B5B1049.3434</td>\n",
              "            <td>Success</td>\n",
              "            <td>24 May 2019</td>\n",
              "            <td>02:30</td>\n",
              "        </tr>\n",
              "        <tr>\n",
              "            <td>72</td>\n",
              "            <td>VAFB</td>\n",
              "            <td>RADARSAT Constellation</td>\n",
              "            <td>4,200 kg</td>\n",
              "            <td>SSO</td>\n",
              "            <td>Canadian Space Agency</td>\n",
              "            <td>Success<br></td>\n",
              "            <td>F9 B5B1051.2420</td>\n",
              "            <td>Success</td>\n",
              "            <td>12 June 2019</td>\n",
              "            <td>14:17</td>\n",
              "        </tr>\n",
              "        <tr>\n",
              "            <td>73</td>\n",
              "            <td>CCAFS</td>\n",
              "            <td>SpaceX CRS-18</td>\n",
              "            <td>2,268 kg</td>\n",
              "            <td>LEO</td>\n",
              "            <td>NASA</td>\n",
              "            <td>Success<br></td>\n",
              "            <td>F9 B5B1056.2465</td>\n",
              "            <td>Success</td>\n",
              "            <td>25 July 2019</td>\n",
              "            <td>22:01</td>\n",
              "        </tr>\n",
              "        <tr>\n",
              "            <td>75</td>\n",
              "            <td>CCAFS</td>\n",
              "            <td>Starlink</td>\n",
              "            <td>15,600 kg</td>\n",
              "            <td>LEO</td>\n",
              "            <td>SpaceX</td>\n",
              "            <td>Success<br></td>\n",
              "            <td>F9 B5</td>\n",
              "            <td>Success</td>\n",
              "            <td>11 November 2019</td>\n",
              "            <td>14:56</td>\n",
              "        </tr>\n",
              "        <tr>\n",
              "            <td>76</td>\n",
              "            <td>CCAFS</td>\n",
              "            <td>SpaceX CRS-19</td>\n",
              "            <td>2,617 kg</td>\n",
              "            <td>LEO</td>\n",
              "            <td>NASA</td>\n",
              "            <td>Success<br></td>\n",
              "            <td>F9 B5[</td>\n",
              "            <td>Success</td>\n",
              "            <td>5 December 2019</td>\n",
              "            <td>17:29</td>\n",
              "        </tr>\n",
              "        <tr>\n",
              "            <td>77</td>\n",
              "            <td>CCAFS</td>\n",
              "            <td>JCSat-18</td>\n",
              "            <td>6,956 kg</td>\n",
              "            <td>GTO</td>\n",
              "            <td>Sky Perfect JSAT</td>\n",
              "            <td>Success<br></td>\n",
              "            <td>F9 B5B1056.3482</td>\n",
              "            <td>Success</td>\n",
              "            <td>17 December 2019</td>\n",
              "            <td>00:10</td>\n",
              "        </tr>\n",
              "        <tr>\n",
              "            <td>78</td>\n",
              "            <td>CCAFS</td>\n",
              "            <td>Starlink</td>\n",
              "            <td>15,600 kg</td>\n",
              "            <td>LEO</td>\n",
              "            <td>SpaceX</td>\n",
              "            <td>Success<br></td>\n",
              "            <td>F9 B5</td>\n",
              "            <td>Success</td>\n",
              "            <td>7 January 2020</td>\n",
              "            <td>02:19:21</td>\n",
              "        </tr>\n",
              "        <tr>\n",
              "            <td>80</td>\n",
              "            <td>CCAFS</td>\n",
              "            <td>Starlink</td>\n",
              "            <td>15,600 kg</td>\n",
              "            <td>LEO</td>\n",
              "            <td>SpaceX</td>\n",
              "            <td>Success<br></td>\n",
              "            <td>F9 B5</td>\n",
              "            <td>Success</td>\n",
              "            <td>29 January 2020</td>\n",
              "            <td>14:07</td>\n",
              "        </tr>\n",
              "        <tr>\n",
              "            <td>82</td>\n",
              "            <td>CCAFS</td>\n",
              "            <td>SpaceX CRS-20</td>\n",
              "            <td>1,977 kg</td>\n",
              "            <td>LEO</td>\n",
              "            <td>NASA</td>\n",
              "            <td>Success<br></td>\n",
              "            <td>F9 B5</td>\n",
              "            <td>Success</td>\n",
              "            <td>7 March 2020</td>\n",
              "            <td>04:50</td>\n",
              "        </tr>\n",
              "        <tr>\n",
              "            <td>84</td>\n",
              "            <td>KSC</td>\n",
              "            <td>Starlink</td>\n",
              "            <td>15,600 kg</td>\n",
              "            <td>LEO</td>\n",
              "            <td>SpaceX</td>\n",
              "            <td>Success<br></td>\n",
              "            <td>F9 B5</td>\n",
              "            <td>Success</td>\n",
              "            <td>22 April 2020</td>\n",
              "            <td>19:30</td>\n",
              "        </tr>\n",
              "        <tr>\n",
              "            <td>85</td>\n",
              "            <td>KSC</td>\n",
              "            <td>Crew Dragon Demo-2</td>\n",
              "            <td>12,530 kg</td>\n",
              "            <td>LEO</td>\n",
              "            <td>NASA</td>\n",
              "            <td>Success<br></td>\n",
              "            <td>F9 B5[</td>\n",
              "            <td>Success</td>\n",
              "            <td>30 May 2020</td>\n",
              "            <td>19:22</td>\n",
              "        </tr>\n",
              "        <tr>\n",
              "            <td>86</td>\n",
              "            <td>CCAFS</td>\n",
              "            <td>Starlink</td>\n",
              "            <td>15,600 kg</td>\n",
              "            <td>LEO</td>\n",
              "            <td>SpaceX</td>\n",
              "            <td>Success<br></td>\n",
              "            <td>F9 B5</td>\n",
              "            <td>Success</td>\n",
              "            <td>4 June 2020</td>\n",
              "            <td>01:25</td>\n",
              "        </tr>\n",
              "        <tr>\n",
              "            <td>87</td>\n",
              "            <td>CCAFS</td>\n",
              "            <td>Starlink</td>\n",
              "            <td>15,410 kg</td>\n",
              "            <td>LEO</td>\n",
              "            <td>SpaceX</td>\n",
              "            <td>Success<br></td>\n",
              "            <td>F9 B5</td>\n",
              "            <td>Success</td>\n",
              "            <td>13 June 2020</td>\n",
              "            <td>09:21</td>\n",
              "        </tr>\n",
              "        <tr>\n",
              "            <td>88</td>\n",
              "            <td>CCAFS</td>\n",
              "            <td>GPS III</td>\n",
              "            <td>4,311 kg</td>\n",
              "            <td>MEO</td>\n",
              "            <td>U.S. Space Force</td>\n",
              "            <td>Success<br></td>\n",
              "            <td>F9 B5</td>\n",
              "            <td>Success</td>\n",
              "            <td>30 June 2020</td>\n",
              "            <td>20:10:46</td>\n",
              "        </tr>\n",
              "        <tr>\n",
              "            <td>89</td>\n",
              "            <td>CCAFS</td>\n",
              "            <td>ANASIS-II</td>\n",
              "            <td>5,000–6,000 kg</td>\n",
              "            <td>GTO</td>\n",
              "            <td>Republic of Korea Army</td>\n",
              "            <td>Success<br></td>\n",
              "            <td>F9 B5B1058.2544</td>\n",
              "            <td>Success</td>\n",
              "            <td>20 July 2020</td>\n",
              "            <td>21:30</td>\n",
              "        </tr>\n",
              "        <tr>\n",
              "            <td>90</td>\n",
              "            <td>KSC</td>\n",
              "            <td>Starlink</td>\n",
              "            <td>14,932 kg</td>\n",
              "            <td>LEO</td>\n",
              "            <td>SpaceX</td>\n",
              "            <td>Success<br></td>\n",
              "            <td>F9 B5</td>\n",
              "            <td>Success</td>\n",
              "            <td>7 August 2020</td>\n",
              "            <td>05:12</td>\n",
              "        </tr>\n",
              "        <tr>\n",
              "            <td>91</td>\n",
              "            <td>CCAFS</td>\n",
              "            <td>Starlink</td>\n",
              "            <td>~15,440 kg</td>\n",
              "            <td>LEO</td>\n",
              "            <td>SpaceX</td>\n",
              "            <td>Success<br></td>\n",
              "            <td>F9 B5B1049.6544</td>\n",
              "            <td>Success</td>\n",
              "            <td>18 August 2020</td>\n",
              "            <td>14:31</td>\n",
              "        </tr>\n",
              "        <tr>\n",
              "            <td>92</td>\n",
              "            <td>CCAFS</td>\n",
              "            <td>SAOCOM 1B</td>\n",
              "            <td>3,130 kg</td>\n",
              "            <td>SSO</td>\n",
              "            <td>CONAE</td>\n",
              "            <td>Success<br></td>\n",
              "            <td>F9 B5</td>\n",
              "            <td>Success</td>\n",
              "            <td>30 August 2020</td>\n",
              "            <td>23:18</td>\n",
              "        </tr>\n",
              "        <tr>\n",
              "            <td>93</td>\n",
              "            <td>KSC</td>\n",
              "            <td>Starlink</td>\n",
              "            <td>15,600 kg</td>\n",
              "            <td>LEO</td>\n",
              "            <td>SpaceX</td>\n",
              "            <td>Success<br></td>\n",
              "            <td>F9 B5B1060.2563</td>\n",
              "            <td>Success</td>\n",
              "            <td>3 September 2020</td>\n",
              "            <td>12:46:14</td>\n",
              "        </tr>\n",
              "        <tr>\n",
              "            <td>94</td>\n",
              "            <td>KSC</td>\n",
              "            <td>Starlink</td>\n",
              "            <td>15,600 kg</td>\n",
              "            <td>LEO</td>\n",
              "            <td>SpaceX</td>\n",
              "            <td>Success<br></td>\n",
              "            <td>F9 B5B1058.3565</td>\n",
              "            <td>Success</td>\n",
              "            <td>6 October 2020</td>\n",
              "            <td>11:29:34</td>\n",
              "        </tr>\n",
              "        <tr>\n",
              "            <td>95</td>\n",
              "            <td>KSC</td>\n",
              "            <td>Starlink</td>\n",
              "            <td>15,600 kg</td>\n",
              "            <td>LEO</td>\n",
              "            <td>SpaceX</td>\n",
              "            <td>Success<br></td>\n",
              "            <td>F9 B5B1051.6568</td>\n",
              "            <td>Success</td>\n",
              "            <td>18 October 2020</td>\n",
              "            <td>12:25:57</td>\n",
              "        </tr>\n",
              "        <tr>\n",
              "            <td>96</td>\n",
              "            <td>CCAFS</td>\n",
              "            <td>Starlink</td>\n",
              "            <td>15,600 kg</td>\n",
              "            <td>LEO</td>\n",
              "            <td>SpaceX</td>\n",
              "            <td>Success<br></td>\n",
              "            <td>F9 B5</td>\n",
              "            <td>Success</td>\n",
              "            <td>24 October 2020</td>\n",
              "            <td>15:31:34</td>\n",
              "        </tr>\n",
              "        <tr>\n",
              "            <td>97</td>\n",
              "            <td>CCAFS</td>\n",
              "            <td>GPS III</td>\n",
              "            <td>4,311 kg</td>\n",
              "            <td>MEO</td>\n",
              "            <td>USSF</td>\n",
              "            <td>Success<br></td>\n",
              "            <td>F9 B5</td>\n",
              "            <td>Success</td>\n",
              "            <td>5 November 2020</td>\n",
              "            <td>23:24:23</td>\n",
              "        </tr>\n",
              "        <tr>\n",
              "            <td>98</td>\n",
              "            <td>KSC</td>\n",
              "            <td>Crew-1</td>\n",
              "            <td>~12,500 kg</td>\n",
              "            <td>LEO</td>\n",
              "            <td>NASA</td>\n",
              "            <td>Success<br></td>\n",
              "            <td>F9 B5[</td>\n",
              "            <td>Success</td>\n",
              "            <td>16 November 2020</td>\n",
              "            <td>00:27</td>\n",
              "        </tr>\n",
              "        <tr>\n",
              "            <td>99</td>\n",
              "            <td>VAFB</td>\n",
              "            <td>Sentinel-6 Michael Freilich (Jason-CS A)</td>\n",
              "            <td>1,192 kg</td>\n",
              "            <td>LEO</td>\n",
              "            <td>NASA</td>\n",
              "            <td>Success<br></td>\n",
              "            <td>F9 B5</td>\n",
              "            <td>Success</td>\n",
              "            <td>21 November 2020</td>\n",
              "            <td>17:17:08</td>\n",
              "        </tr>\n",
              "        <tr>\n",
              "            <td>100</td>\n",
              "            <td>CCAFS</td>\n",
              "            <td>Starlink</td>\n",
              "            <td>15,600 kg</td>\n",
              "            <td>LEO</td>\n",
              "            <td>SpaceX</td>\n",
              "            <td>Success<br></td>\n",
              "            <td>F9 B5 ♺[</td>\n",
              "            <td>Success</td>\n",
              "            <td>25 November 2020</td>\n",
              "            <td>02:13</td>\n",
              "        </tr>\n",
              "        <tr>\n",
              "            <td>101</td>\n",
              "            <td>KSC</td>\n",
              "            <td>SpaceX CRS-21</td>\n",
              "            <td>2,972 kg</td>\n",
              "            <td>LEO</td>\n",
              "            <td>NASA</td>\n",
              "            <td>Success<br></td>\n",
              "            <td>F9 B5 ♺[</td>\n",
              "            <td>Success</td>\n",
              "            <td>6 December 2020</td>\n",
              "            <td>16:17:08</td>\n",
              "        </tr>\n",
              "        <tr>\n",
              "            <td>102</td>\n",
              "            <td>CCSFS</td>\n",
              "            <td>SXM-7</td>\n",
              "            <td>7,000 kg</td>\n",
              "            <td>GTO</td>\n",
              "            <td>Sirius XM</td>\n",
              "            <td>Success<br></td>\n",
              "            <td>F9 B5 ♺</td>\n",
              "            <td>Success</td>\n",
              "            <td>13 December 2020</td>\n",
              "            <td>17:30:00</td>\n",
              "        </tr>\n",
              "        <tr>\n",
              "            <td>103</td>\n",
              "            <td>KSC</td>\n",
              "            <td>NROL-108</td>\n",
              "            <td>C</td>\n",
              "            <td>LEO</td>\n",
              "            <td>NRO</td>\n",
              "            <td>Success<br></td>\n",
              "            <td>F9 B5 ♺</td>\n",
              "            <td>Success</td>\n",
              "            <td>19 December 2020</td>\n",
              "            <td>14:00:00</td>\n",
              "        </tr>\n",
              "        <tr>\n",
              "            <td>104</td>\n",
              "            <td>CCSFS</td>\n",
              "            <td>Türksat 5A</td>\n",
              "            <td>3,500 kg</td>\n",
              "            <td>GTO</td>\n",
              "            <td>Türksat</td>\n",
              "            <td>Success<br></td>\n",
              "            <td>F9 B5</td>\n",
              "            <td>Success</td>\n",
              "            <td>8 January 2021</td>\n",
              "            <td>02:15</td>\n",
              "        </tr>\n",
              "        <tr>\n",
              "            <td>105</td>\n",
              "            <td>KSC</td>\n",
              "            <td>Starlink</td>\n",
              "            <td>15,600 kg</td>\n",
              "            <td>LEO</td>\n",
              "            <td>SpaceX</td>\n",
              "            <td>Success<br></td>\n",
              "            <td>F9 B5B1051.8609</td>\n",
              "            <td>Success</td>\n",
              "            <td>20 January 2021</td>\n",
              "            <td>13:02</td>\n",
              "        </tr>\n",
              "        <tr>\n",
              "            <td>106</td>\n",
              "            <td>CCSFS</td>\n",
              "            <td>Transporter-1</td>\n",
              "            <td>~5,000 kg</td>\n",
              "            <td>SSO</td>\n",
              "            <td>None</td>\n",
              "            <td>Success<br></td>\n",
              "            <td>F9 B5B1058.5613</td>\n",
              "            <td>Success</td>\n",
              "            <td>24 January 2021</td>\n",
              "            <td>15:00</td>\n",
              "        </tr>\n",
              "        <tr>\n",
              "            <td>107</td>\n",
              "            <td>CCSFS</td>\n",
              "            <td>Starlink</td>\n",
              "            <td>15,600 kg</td>\n",
              "            <td>LEO</td>\n",
              "            <td>SpaceX</td>\n",
              "            <td>Success<br></td>\n",
              "            <td>F9 B5 ♺[</td>\n",
              "            <td>Success</td>\n",
              "            <td>4 February 2021</td>\n",
              "            <td>06:19</td>\n",
              "        </tr>\n",
              "        <tr>\n",
              "            <td>109</td>\n",
              "            <td>KSC</td>\n",
              "            <td>Starlink</td>\n",
              "            <td>15,600 kg</td>\n",
              "            <td>LEO</td>\n",
              "            <td>SpaceX</td>\n",
              "            <td>Success<br></td>\n",
              "            <td>F9 B5 ♺[</td>\n",
              "            <td>Success</td>\n",
              "            <td>4 March 2021</td>\n",
              "            <td>08:24</td>\n",
              "        </tr>\n",
              "        <tr>\n",
              "            <td>110</td>\n",
              "            <td>CCSFS</td>\n",
              "            <td>Starlink</td>\n",
              "            <td>15,600 kg</td>\n",
              "            <td>LEO</td>\n",
              "            <td>SpaceX</td>\n",
              "            <td>Success<br></td>\n",
              "            <td>F9 B5 ♺[</td>\n",
              "            <td>Success</td>\n",
              "            <td>11 March 2021</td>\n",
              "            <td>08:13:29</td>\n",
              "        </tr>\n",
              "        <tr>\n",
              "            <td>111</td>\n",
              "            <td>KSC</td>\n",
              "            <td>Starlink</td>\n",
              "            <td>15,600 kg</td>\n",
              "            <td>LEO</td>\n",
              "            <td>SpaceX</td>\n",
              "            <td>Success<br></td>\n",
              "            <td>F9 B5 ♺</td>\n",
              "            <td>Success</td>\n",
              "            <td>14 March 2021</td>\n",
              "            <td>10:01</td>\n",
              "        </tr>\n",
              "        <tr>\n",
              "            <td>112</td>\n",
              "            <td>CCSFS</td>\n",
              "            <td>Starlink</td>\n",
              "            <td>15,600 kg</td>\n",
              "            <td>LEO</td>\n",
              "            <td>SpaceX</td>\n",
              "            <td>Success<br></td>\n",
              "            <td>F9 B5B1060.6643</td>\n",
              "            <td>Success</td>\n",
              "            <td>24 March 2021</td>\n",
              "            <td>08:28</td>\n",
              "        </tr>\n",
              "        <tr>\n",
              "            <td>113</td>\n",
              "            <td>CCSFS</td>\n",
              "            <td>Starlink</td>\n",
              "            <td>15,600 kg</td>\n",
              "            <td>LEO</td>\n",
              "            <td>SpaceX</td>\n",
              "            <td>Success<br></td>\n",
              "            <td>F9 B5 ♺</td>\n",
              "            <td>Success</td>\n",
              "            <td>7 April 2021</td>\n",
              "            <td>16:34</td>\n",
              "        </tr>\n",
              "        <tr>\n",
              "            <td>114</td>\n",
              "            <td>KSC</td>\n",
              "            <td>Crew-2</td>\n",
              "            <td>~13,000 kg</td>\n",
              "            <td>LEO</td>\n",
              "            <td>NASA</td>\n",
              "            <td>Success<br></td>\n",
              "            <td>F9 B5B1061.2647</td>\n",
              "            <td>Success</td>\n",
              "            <td>23 April 2021</td>\n",
              "            <td>9:49</td>\n",
              "        </tr>\n",
              "        <tr>\n",
              "            <td>115</td>\n",
              "            <td>CCSFS</td>\n",
              "            <td>Starlink</td>\n",
              "            <td>15,600 kg</td>\n",
              "            <td>LEO</td>\n",
              "            <td>SpaceX</td>\n",
              "            <td>Success<br></td>\n",
              "            <td>F9 B5B1060.7652</td>\n",
              "            <td>Success</td>\n",
              "            <td>29 April 2021</td>\n",
              "            <td>03:44</td>\n",
              "        </tr>\n",
              "        <tr>\n",
              "            <td>116</td>\n",
              "            <td>KSC</td>\n",
              "            <td>Starlink</td>\n",
              "            <td>15,600 kg</td>\n",
              "            <td>LEO</td>\n",
              "            <td>SpaceX</td>\n",
              "            <td>Success<br></td>\n",
              "            <td>F9 B5B1049.9655</td>\n",
              "            <td>Success</td>\n",
              "            <td>4 May 2021</td>\n",
              "            <td>19:01</td>\n",
              "        </tr>\n",
              "        <tr>\n",
              "            <td>117</td>\n",
              "            <td>CCSFS</td>\n",
              "            <td>Starlink</td>\n",
              "            <td>15,600 kg</td>\n",
              "            <td>LEO</td>\n",
              "            <td>SpaceX</td>\n",
              "            <td>Success<br></td>\n",
              "            <td>F9 B5B1051.10657</td>\n",
              "            <td>Success</td>\n",
              "            <td>9 May 2021</td>\n",
              "            <td>06:42</td>\n",
              "        </tr>\n",
              "        <tr>\n",
              "            <td>118</td>\n",
              "            <td>KSC</td>\n",
              "            <td>Starlink</td>\n",
              "            <td>~14,000 kg</td>\n",
              "            <td>LEO</td>\n",
              "            <td>SpaceX</td>\n",
              "            <td>Success<br></td>\n",
              "            <td>F9 B5B1058.8660</td>\n",
              "            <td>Success</td>\n",
              "            <td>15 May 2021</td>\n",
              "            <td>22:56</td>\n",
              "        </tr>\n",
              "        <tr>\n",
              "            <td>119</td>\n",
              "            <td>CCSFS</td>\n",
              "            <td>Starlink</td>\n",
              "            <td>15,600 kg</td>\n",
              "            <td>LEO</td>\n",
              "            <td>SpaceX</td>\n",
              "            <td>Success<br></td>\n",
              "            <td>F9 B5B1063.2665</td>\n",
              "            <td>Success</td>\n",
              "            <td>26 May 2021</td>\n",
              "            <td>18:59</td>\n",
              "        </tr>\n",
              "        <tr>\n",
              "            <td>120</td>\n",
              "            <td>KSC</td>\n",
              "            <td>SpaceX CRS-22</td>\n",
              "            <td>3,328 kg</td>\n",
              "            <td>LEO</td>\n",
              "            <td>NASA</td>\n",
              "            <td>Success<br></td>\n",
              "            <td>F9 B5B1067.1668</td>\n",
              "            <td>Success</td>\n",
              "            <td>3 June 2021</td>\n",
              "            <td>17:29</td>\n",
              "        </tr>\n",
              "        <tr>\n",
              "            <td>121</td>\n",
              "            <td>CCSFS</td>\n",
              "            <td>SXM-8</td>\n",
              "            <td>7,000 kg</td>\n",
              "            <td>GTO</td>\n",
              "            <td>Sirius XM</td>\n",
              "            <td>Success<br></td>\n",
              "            <td>F9 B5</td>\n",
              "            <td>Success</td>\n",
              "            <td>6 June 2021</td>\n",
              "            <td>04:26</td>\n",
              "        </tr>\n",
              "    </tbody>\n",
              "</table>"
            ]
          },
          "metadata": {},
          "execution_count": 25
        }
      ],
      "source": [
        "%sql select * from SPACEXTABLE where \"Booster Landing\" like '%success%';\n",
        "\n"
      ]
    },
    {
      "cell_type": "markdown",
      "metadata": {
        "id": "dEO1J5WAw_s4"
      },
      "source": [
        "### Reference Links\n",
        "\n",
        "* <a href =\"https://cf-courses-data.s3.us.cloud-object-storage.appdomain.cloud/IBMDeveloperSkillsNetwork-DB0201EN-SkillsNetwork/labs/Labs_Coursera_V5/labs/Lab%20-%20String%20Patterns%20-%20Sorting%20-%20Grouping/instructional-labs.md.html?origin=www.coursera.org\">Hands-on Lab : String Patterns, Sorting and Grouping</a>  \n",
        "\n",
        "*  <a  href=\"https://cf-courses-data.s3.us.cloud-object-storage.appdomain.cloud/IBMDeveloperSkillsNetwork-DB0201EN-SkillsNetwork/labs/Labs_Coursera_V5/labs/Lab%20-%20Built-in%20functions%20/Hands-on_Lab__Built-in_Functions.md.html?origin=www.coursera.org\">Hands-on Lab: Built-in functions</a>\n",
        "\n",
        "*  <a  href=\"https://cf-courses-data.s3.us.cloud-object-storage.appdomain.cloud/IBMDeveloperSkillsNetwork-DB0201EN-SkillsNetwork/labs/Labs_Coursera_V5/labs/Lab%20-%20Sub-queries%20and%20Nested%20SELECTs%20/instructional-labs.md.html?origin=www.coursera.org\">Hands-on Lab : Sub-queries and Nested SELECT Statements</a>\n",
        "\n",
        "*   <a href=\"https://cf-courses-data.s3.us.cloud-object-storage.appdomain.cloud/IBMDeveloperSkillsNetwork-DB0201EN-SkillsNetwork/labs/Module%205/DB0201EN-Week3-1-3-SQLmagic.ipynb\">Hands-on Tutorial: Accessing Databases with SQL magic</a>\n",
        "\n",
        "*  <a href= \"https://cf-courses-data.s3.us.cloud-object-storage.appdomain.cloud/IBMDeveloperSkillsNetwork-DB0201EN-SkillsNetwork/labs/Module%205/DB0201EN-Week3-1-4-Analyzing.ipynb\">Hands-on Lab: Analyzing a real World Data Set</a>\n",
        "\n",
        "\n"
      ]
    },
    {
      "cell_type": "markdown",
      "metadata": {
        "id": "hdHJBAS8w_s4"
      },
      "source": [
        "## Author(s)\n",
        "\n",
        "<h4> Lakshmi Holla </h4>\n"
      ]
    },
    {
      "cell_type": "markdown",
      "metadata": {
        "id": "KVUT-264w_s4"
      },
      "source": [
        "## Other Contributors\n",
        "\n",
        "<h4> Rav Ahuja </h4>\n"
      ]
    },
    {
      "cell_type": "markdown",
      "metadata": {
        "id": "y1Kr0_Rjw_s4"
      },
      "source": [
        "<!--\n",
        "## Change log\n",
        "| Date | Version | Changed by | Change Description |\n",
        "|------|--------|--------|---------|\n",
        "| 2024-07-10 | 1.1 |Anita Verma | Changed Version|\n",
        "| 2021-07-09 | 0.2 |Lakshmi Holla | Changes made in magic sql|\n",
        "| 2021-05-20 | 0.1 |Lakshmi Holla | Created Initial Version |\n",
        "-->\n"
      ]
    },
    {
      "cell_type": "markdown",
      "metadata": {
        "id": "ZPKKMzvQw_s8"
      },
      "source": [
        "## <h3 align=\"center\"> © IBM Corporation 2021. All rights reserved. <h3/>\n"
      ]
    }
  ],
  "metadata": {
    "kernelspec": {
      "display_name": "Python [conda env:base] *",
      "language": "python",
      "name": "conda-base-py"
    },
    "language_info": {
      "codemirror_mode": {
        "name": "ipython",
        "version": 3
      },
      "file_extension": ".py",
      "mimetype": "text/x-python",
      "name": "python",
      "nbconvert_exporter": "python",
      "pygments_lexer": "ipython3",
      "version": "3.12.3"
    },
    "prev_pub_hash": "18774c8928e6c688c0fbec1a14775f2c11e247049ea3a108a4750dd06f4672bb",
    "colab": {
      "provenance": []
    }
  },
  "nbformat": 4,
  "nbformat_minor": 0
}